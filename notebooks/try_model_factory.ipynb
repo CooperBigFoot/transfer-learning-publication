{
 "cells": [
  {
   "cell_type": "code",
   "execution_count": 10,
   "id": "3102e32c",
   "metadata": {},
   "outputs": [],
   "source": [
    "from transfer_learning_publication.models import ModelFactory\n",
    "from transfer_learning_publication.data import CaravanDataSource"
   ]
  },
  {
   "cell_type": "code",
   "execution_count": 9,
   "id": "cfd6e6c3",
   "metadata": {},
   "outputs": [
    {
     "data": {
      "text/plain": [
       "['ealstm', 'naive_last_value', 'tft', 'tide', 'tsmixer']"
      ]
     },
     "execution_count": 9,
     "metadata": {},
     "output_type": "execute_result"
    }
   ],
   "source": [
    "ModelFactory.list_available()"
   ]
  },
  {
   "cell_type": "code",
   "execution_count": 18,
   "id": "48949524",
   "metadata": {},
   "outputs": [],
   "source": [
    "caravan = CaravanDataSource(\"/Users/cooper/Desktop/CARAVAN_CLEAN/train\", region=\"camelsch\")\n",
    "ts_data = caravan.get_timeseries([\"camelsch_2079\"])"
   ]
  },
  {
   "cell_type": "code",
   "execution_count": 20,
   "id": "156e6201",
   "metadata": {},
   "outputs": [
    {
     "name": "stdout",
     "output_type": "stream",
     "text": [
      "shape: (5, 17)\n",
      "┌───────────┬───────────┬───────────┬───────────┬───┬───────────┬───────────┬───────────┬──────────┐\n",
      "│ temperatu ┆ surface_n ┆ surface_n ┆ REGION_NA ┆ … ┆ sin_day_o ┆ cos_day_o ┆ data_type ┆ gauge_id │\n",
      "│ re_2m_max ┆ et_therma ┆ et_solar_ ┆ ME        ┆   ┆ f_year    ┆ f_year    ┆ ---       ┆ ---      │\n",
      "│ ---       ┆ l_radiati ┆ radiation ┆ ---       ┆   ┆ ---       ┆ ---       ┆ str       ┆ str      │\n",
      "│ f64       ┆ on_…      ┆ _me…      ┆ str       ┆   ┆ f64       ┆ f64       ┆           ┆          │\n",
      "│           ┆ ---       ┆ ---       ┆           ┆   ┆           ┆           ┆           ┆          │\n",
      "│           ┆ f64       ┆ f64       ┆           ┆   ┆           ┆           ┆           ┆          │\n",
      "╞═══════════╪═══════════╪═══════════╪═══════════╪═══╪═══════════╪═══════════╪═══════════╪══════════╡\n",
      "│ -3.71     ┆ -28.13    ┆ 21.63     ┆ camelsch  ┆ … ┆ 0.0       ┆ 1.0       ┆ timeserie ┆ camelsch │\n",
      "│           ┆           ┆           ┆           ┆   ┆           ┆           ┆ s         ┆ _2079    │\n",
      "│ -7.12     ┆ -40.17    ┆ 26.83     ┆ camelsch  ┆ … ┆ 0.017202  ┆ 0.999852  ┆ timeserie ┆ camelsch │\n",
      "│           ┆           ┆           ┆           ┆   ┆           ┆           ┆ s         ┆ _2079    │\n",
      "│ -1.3      ┆ -21.04    ┆ 24.41     ┆ camelsch  ┆ … ┆ 0.034398  ┆ 0.999408  ┆ timeserie ┆ camelsch │\n",
      "│           ┆           ┆           ┆           ┆   ┆           ┆           ┆ s         ┆ _2079    │\n",
      "│ -1.7      ┆ -22.63    ┆ 14.47     ┆ camelsch  ┆ … ┆ 0.051584  ┆ 0.998669  ┆ timeserie ┆ camelsch │\n",
      "│           ┆           ┆           ┆           ┆   ┆           ┆           ┆ s         ┆ _2079    │\n",
      "│ -10.44    ┆ -43.46    ┆ 19.13     ┆ camelsch  ┆ … ┆ 0.068755  ┆ 0.997634  ┆ timeserie ┆ camelsch │\n",
      "│           ┆           ┆           ┆           ┆   ┆           ┆           ┆ s         ┆ _2079    │\n",
      "└───────────┴───────────┴───────────┴───────────┴───┴───────────┴───────────┴───────────┴──────────┘\n"
     ]
    }
   ],
   "source": [
    "print(ts_data.collect().head())"
   ]
  },
  {
   "cell_type": "code",
   "execution_count": null,
   "id": "0088994e",
   "metadata": {},
   "outputs": [],
   "source": []
  }
 ],
 "metadata": {
  "language_info": {
   "name": "python"
  }
 },
 "nbformat": 4,
 "nbformat_minor": 5
}
