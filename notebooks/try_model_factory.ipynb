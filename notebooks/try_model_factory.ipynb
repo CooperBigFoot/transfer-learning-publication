{
 "cells": [
  {
   "cell_type": "code",
   "execution_count": 8,
   "id": "3102e32c",
   "metadata": {},
   "outputs": [],
   "source": [
    "from transfer_learning_publication.models import ModelFactory"
   ]
  },
  {
   "cell_type": "code",
   "execution_count": 9,
   "id": "cfd6e6c3",
   "metadata": {},
   "outputs": [
    {
     "data": {
      "text/plain": [
       "['ealstm', 'naive_last_value', 'tft', 'tide', 'tsmixer']"
      ]
     },
     "execution_count": 9,
     "metadata": {},
     "output_type": "execute_result"
    }
   ],
   "source": [
    "ModelFactory.list_available()"
   ]
  },
  {
   "cell_type": "code",
   "execution_count": null,
   "id": "48949524",
   "metadata": {},
   "outputs": [],
   "source": []
  }
 ],
 "metadata": {
  "language_info": {
   "name": "python"
  }
 },
 "nbformat": 4,
 "nbformat_minor": 5
}
