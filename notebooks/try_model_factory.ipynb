{
 "cells": [
  {
   "cell_type": "code",
   "execution_count": 2,
   "id": "a73dee47",
   "metadata": {},
   "outputs": [],
   "source": [
    "from transfer_learning_publication.models import ModelFactory "
   ]
  },
  {
   "cell_type": "code",
   "execution_count": 3,
   "id": "999e8648",
   "metadata": {},
   "outputs": [
    {
     "name": "stdout",
     "output_type": "stream",
     "text": [
      "['ealstm', 'naive_last_value', 'tft', 'tide', 'tsmixer']\n"
     ]
    }
   ],
   "source": [
    "available_models = ModelFactory.list_available()\n",
    "print(available_models)"
   ]
  }
 ],
 "metadata": {
  "kernelspec": {
   "display_name": "transfer-learning-publication",
   "language": "python",
   "name": "python3"
  },
  "language_info": {
   "codemirror_mode": {
    "name": "ipython",
    "version": 3
   },
   "file_extension": ".py",
   "mimetype": "text/x-python",
   "name": "python",
   "nbconvert_exporter": "python",
   "pygments_lexer": "ipython3",
   "version": "3.12.8"
  }
 },
 "nbformat": 4,
 "nbformat_minor": 5
}
