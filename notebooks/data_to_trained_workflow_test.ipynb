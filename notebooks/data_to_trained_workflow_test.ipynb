{
 "cells": [
  {
   "cell_type": "code",
   "execution_count": 1,
   "id": "456502af",
   "metadata": {},
   "outputs": [],
   "source": [
    "from transfer_learning_publication.models import ModelFactory\n",
    "from transfer_learning_publication.data import CaravanDataSource, LSHDataModule\n",
    "from transfer_learning_publication.transforms import PipelineBuilder, Log, ZScore\n",
    "from transfer_learning_publication.models import ModelFactory, ModelEvaluator\n",
    "from transfer_learning_publication.models.tide import LitTiDE\n",
    "from transfer_learning_publication.callbacks import HFUploadCallback\n",
    "import lightning as pl\n",
    "from litmodels.integrations import LightningModelCheckpoint\n",
    "import torch\n",
    "from lightning.pytorch.callbacks import ModelCheckpoint, EarlyStopping, Callback, LearningRateMonitor, RichProgressBar\n",
    "import matplotlib.pyplot as plt\n",
    "import joblib\n",
    "import os\n",
    "from huggingface_hub import upload_file"
   ]
  },
  {
   "cell_type": "markdown",
   "id": "6ab7e6b4",
   "metadata": {},
   "source": [
    "## Transform data and sink to disk"
   ]
  },
  {
   "cell_type": "code",
   "execution_count": 2,
   "id": "471efee7",
   "metadata": {},
   "outputs": [],
   "source": [
    "ts_features = [\"temperature_2m_max\",\n",
    "            \"temperature_2m_min\",\n",
    "            \"potential_evaporation_sum_FAO_PENMAN_MONTEITH\",\n",
    "            \"potential_evaporation_sum_ERA5_LAND\",\n",
    "            \"temperature_2m_mean\",\n",
    "            \"total_precipitation_sum\",\n",
    "            \"streamflow\",\n",
    "            \"streamflow_was_filled\",\n",
    "            \"sin_day_of_year\",\n",
    "            \"cos_day_of_year\"]\n",
    "\n",
    "static_features = [\"p_mean\",\n",
    "            \"area\",\n",
    "            \"ele_mt_sav\",\n",
    "            \"high_prec_dur\",\n",
    "            \"frac_snow\",\n",
    "            \"high_prec_freq\",\n",
    "            \"slp_dg_sav\",\n",
    "            \"cly_pc_sav\",\n",
    "            \"aridity_ERA5_LAND\",\n",
    "            \"aridity_FAO_PM\",]\n",
    "\n",
    "stages = [\"train\", \"val\", \"test\"]"
   ]
  },
  {
   "cell_type": "code",
   "execution_count": null,
   "id": "0a04b2fa",
   "metadata": {},
   "outputs": [
    {
     "name": "stderr",
     "output_type": "stream",
     "text": [
      "Overwriting 3 existing gauge partition(s)\n",
      "Overwriting existing attributes file: /Users/cooper/Desktop/first-test/train/REGION_NAME=tajikkyrgyz/data_type=attributes/data.parquet\n",
      "Overwriting 3 existing gauge partition(s)\n",
      "Overwriting existing attributes file: /Users/cooper/Desktop/first-test/val/REGION_NAME=tajikkyrgyz/data_type=attributes/data.parquet\n",
      "Overwriting 3 existing gauge partition(s)\n",
      "Overwriting existing attributes file: /Users/cooper/Desktop/first-test/test/REGION_NAME=tajikkyrgyz/data_type=attributes/data.parquet\n"
     ]
    },
    {
     "name": "stdout",
     "output_type": "stream",
     "text": [
      "Completed train stage\n",
      "Completed val stage\n",
      "Completed test stage\n"
     ]
    }
   ],
   "source": [
    "# ts_preprocessing_pipelines = (\n",
    "#     PipelineBuilder(group_identifier=\"gauge_id\")\n",
    "#     .add_per_basin(Log(), columns=[\"streamflow\"])\n",
    "#     .add_global(ZScore(), columns=[\"temperature_2m_max\",\n",
    "#             \"temperature_2m_min\",\n",
    "#             \"potential_evaporation_sum_FAO_PENMAN_MONTEITH\",\n",
    "#             \"potential_evaporation_sum_ERA5_LAND\",\n",
    "#             \"temperature_2m_mean\",\n",
    "#             \"total_precipitation_sum\",\n",
    "#             \"streamflow\"])\n",
    "#     .build()\n",
    "# )\n",
    "\n",
    "# static_preprocessing_pipelines = (\n",
    "#     PipelineBuilder(group_identifier=\"gauge_id\")\n",
    "#     .add_global(ZScore(), columns=static_features)\n",
    "#     .build()\n",
    "# )\n",
    "\n",
    "# for stage in stages:\n",
    "#     caravan = CaravanDataSource(f\"/Users/cooper/Desktop/CARAVAN_CLEAN/{stage}\", region=\"tajikkyrgyz\")\n",
    "#     gauge_ids = caravan.list_gauge_ids()\n",
    "#     ts_data = caravan.get_timeseries(\n",
    "#         gauge_ids[:3], \n",
    "#         columns=ts_features\n",
    "#     )\n",
    "#     static_data = caravan.get_static_attributes(\n",
    "#         gauge_ids[:3], \n",
    "#         columns=static_features\n",
    "#     )\n",
    "\n",
    "#     if stage == \"train\":\n",
    "#         ts_transformed = ts_preprocessing_pipelines.fit_transform(ts_data.collect())\n",
    "#         static_transformed = static_preprocessing_pipelines.fit_transform(static_data.collect())\n",
    "#     else:\n",
    "#         ts_transformed = ts_preprocessing_pipelines.transform(ts_data.collect())\n",
    "#         static_transformed = static_preprocessing_pipelines.transform(static_data.collect())\n",
    "\n",
    "#     caravan.write_timeseries(ts_transformed, f\"/Users/cooper/Desktop/first-test/{stage}\", overwrite=True)\n",
    "#     caravan.write_static_attributes(static_transformed, f\"/Users/cooper/Desktop/first-test/{stage}\", overwrite=True)\n",
    "\n",
    "#     print(f\"Completed {stage} stage\")"
   ]
  },
  {
   "cell_type": "code",
   "execution_count": null,
   "id": "577e9c72",
   "metadata": {},
   "outputs": [
    {
     "data": {
      "text/plain": [
       "['/Users/cooper/Desktop/first-test/static_pipeline.joblib']"
      ]
     },
     "execution_count": 4,
     "metadata": {},
     "output_type": "execute_result"
    }
   ],
   "source": [
    "# # Dump the fitted pipelines\n",
    "# joblib.dump(ts_preprocessing_pipelines, \"/Users/cooper/Desktop/first-test/ts_pipeline.joblib\")\n",
    "# joblib.dump(static_preprocessing_pipelines, \"/Users/cooper/Desktop/first-test/static_pipeline.joblib\")"
   ]
  },
  {
   "cell_type": "markdown",
   "id": "ec476f67",
   "metadata": {},
   "source": [
    "## Create datamodule and instantiate model for training"
   ]
  },
  {
   "cell_type": "code",
   "execution_count": 5,
   "id": "964e2617",
   "metadata": {},
   "outputs": [],
   "source": [
    "config_path = \"/Users/cooper/Desktop/transfer-learning-publication/configs/first_run.yaml\""
   ]
  },
  {
   "cell_type": "code",
   "execution_count": 6,
   "id": "309f2506",
   "metadata": {},
   "outputs": [],
   "source": [
    "datamodule = LSHDataModule(config_path=config_path)\n",
    "\n",
    "model_factory = ModelFactory()\n",
    "model = model_factory.create_from_config(config_path=config_path)"
   ]
  },
  {
   "cell_type": "code",
   "execution_count": 7,
   "id": "6a9f4734",
   "metadata": {},
   "outputs": [
    {
     "name": "stderr",
     "output_type": "stream",
     "text": [
      "💡 Tip: For seamless cloud uploads and versioning, try installing [litmodels](https://pypi.org/project/litmodels/) to enable LitModelCheckpoint, which syncs automatically with the Lightning model registry.\n",
      "GPU available: True (mps), used: True\n",
      "TPU available: False, using: 0 TPU cores\n",
      "HPU available: False, using: 0 HPUs\n",
      "/Users/cooper/Desktop/transfer-learning-publication/.venv/lib/python3.12/site-packages/lightning/pytorch/trainer/connectors/logger_connector/logger_connector.py:76: Starting from v1.9.0, `tensorboardX` has been removed as a dependency of the `lightning.pytorch` package, due to potential conflicts with other packages in the ML ecosystem. For this reason, `logger=True` will use `CSVLogger` as the default logger, unless the `tensorboard` or `tensorboardX` packages are found. Please `pip install lightning[extra]` or one of them to enable TensorBoard support by default\n",
      "\n",
      "  | Name      | Type      | Params | Mode \n",
      "------------------------------------------------\n",
      "0 | criterion | MSELoss   | 0      | train\n",
      "1 | rev_in    | RevIN     | 2      | train\n",
      "2 | model     | TiDEModel | 178 K  | train\n",
      "------------------------------------------------\n",
      "178 K     Trainable params\n",
      "0         Non-trainable params\n",
      "178 K     Total params\n",
      "0.715     Total estimated model params size (MB)\n",
      "27        Modules in train mode\n",
      "0         Modules in eval mode\n"
     ]
    },
    {
     "data": {
      "application/vnd.jupyter.widget-view+json": {
       "model_id": "eb430158538a4d0392f87cf90e3472cd",
       "version_major": 2,
       "version_minor": 0
      },
      "text/plain": [
       "Sanity Checking: |          | 0/? [00:00<?, ?it/s]"
      ]
     },
     "metadata": {},
     "output_type": "display_data"
    },
    {
     "name": "stderr",
     "output_type": "stream",
     "text": [
      "/Users/cooper/Desktop/transfer-learning-publication/.venv/lib/python3.12/site-packages/lightning/pytorch/trainer/connectors/data_connector.py:433: The 'val_dataloader' does not have many workers which may be a bottleneck. Consider increasing the value of the `num_workers` argument` to `num_workers=9` in the `DataLoader` to improve performance.\n",
      "/Users/cooper/Desktop/transfer-learning-publication/.venv/lib/python3.12/site-packages/lightning/pytorch/trainer/connectors/data_connector.py:433: The 'train_dataloader' does not have many workers which may be a bottleneck. Consider increasing the value of the `num_workers` argument` to `num_workers=9` in the `DataLoader` to improve performance.\n"
     ]
    },
    {
     "data": {
      "application/vnd.jupyter.widget-view+json": {
       "model_id": "67b0d24058114385a1af00cab1958372",
       "version_major": 2,
       "version_minor": 0
      },
      "text/plain": [
       "Training: |          | 0/? [00:00<?, ?it/s]"
      ]
     },
     "metadata": {},
     "output_type": "display_data"
    },
    {
     "data": {
      "application/vnd.jupyter.widget-view+json": {
       "model_id": "a3bcb121cd9a4009b8732f802fdc1ebd",
       "version_major": 2,
       "version_minor": 0
      },
      "text/plain": [
       "Validation: |          | 0/? [00:00<?, ?it/s]"
      ]
     },
     "metadata": {},
     "output_type": "display_data"
    },
    {
     "name": "stderr",
     "output_type": "stream",
     "text": [
      "`Trainer.fit` stopped: `max_epochs=1` reached.\n"
     ]
    }
   ],
   "source": [
    "trainer = pl.Trainer(\n",
    "    max_epochs=1,\n",
    "    accelerator=\"auto\",\n",
    "    devices=1,\n",
    "    logger=True,\n",
    "    # callbacks=[\n",
    "    #     ModelCheckpoint(\n",
    "    #         monitor=\"val_loss\", \n",
    "    #         mode=\"min\", \n",
    "    #         save_top_k=1,\n",
    "    #         dirpath=\"checkpoints\",\n",
    "    #         filename=\"best-{epoch:02d}-{val_loss:.2f}\"\n",
    "    #     ),\n",
    "    #     HFUploadCallback(\n",
    "    #         repo_id=\"CooperBigFoot/test-repo\",\n",
    "    #         repo_type=\"model\",\n",
    "    #         path_in_repo=\"checkpoints/{filename}\",\n",
    "    #         private=False\n",
    "    #     ),\n",
    "    #     EarlyStopping(\n",
    "    #         monitor=\"val_loss\", \n",
    "    #         mode=\"min\", \n",
    "    #         patience=5, \n",
    "    #         verbose=True\n",
    "    #     ),\n",
    "    #     RichProgressBar() \n",
    "    # ],\n",
    "    enable_progress_bar=True,\n",
    "    log_every_n_steps=1\n",
    ")\n",
    "\n",
    "trainer.fit(model=model, datamodule=datamodule)"
   ]
  },
  {
   "cell_type": "code",
   "execution_count": 16,
   "id": "5a8334f4",
   "metadata": {},
   "outputs": [
    {
     "name": "stderr",
     "output_type": "stream",
     "text": [
      "💡 Tip: For seamless cloud uploads and versioning, try installing [litmodels](https://pypi.org/project/litmodels/) to enable LitModelCheckpoint, which syncs automatically with the Lightning model registry.\n",
      "GPU available: True (mps), used: False\n",
      "TPU available: False, using: 0 TPU cores\n",
      "HPU available: False, using: 0 HPUs\n",
      "/Users/cooper/Desktop/transfer-learning-publication/.venv/lib/python3.12/site-packages/lightning/pytorch/trainer/setup.py:177: GPU available but not used. You can set it by doing `Trainer(accelerator='gpu')`.\n",
      "/Users/cooper/Desktop/transfer-learning-publication/.venv/lib/python3.12/site-packages/lightning/pytorch/trainer/connectors/data_connector.py:433: The 'test_dataloader' does not have many workers which may be a bottleneck. Consider increasing the value of the `num_workers` argument` to `num_workers=9` in the `DataLoader` to improve performance.\n"
     ]
    },
    {
     "data": {
      "application/vnd.jupyter.widget-view+json": {
       "model_id": "3094f193fde74b35b2268755f2c1754c",
       "version_major": 2,
       "version_minor": 0
      },
      "text/plain": [
       "Testing: |          | 0/? [00:00<?, ?it/s]"
      ]
     },
     "metadata": {},
     "output_type": "display_data"
    },
    {
     "data": {
      "text/html": [
       "<pre style=\"white-space:pre;overflow-x:auto;line-height:normal;font-family:Menlo,'DejaVu Sans Mono',consolas,'Courier New',monospace\">┏━━━━━━━━━━━━━━━━━━━━━━━━━━━┳━━━━━━━━━━━━━━━━━━━━━━━━━━━┓\n",
       "┃<span style=\"font-weight: bold\">        Test metric        </span>┃<span style=\"font-weight: bold\">       DataLoader 0        </span>┃\n",
       "┡━━━━━━━━━━━━━━━━━━━━━━━━━━━╇━━━━━━━━━━━━━━━━━━━━━━━━━━━┩\n",
       "│<span style=\"color: #008080; text-decoration-color: #008080\">         test_loss         </span>│<span style=\"color: #800080; text-decoration-color: #800080\">   0.041021447628736496    </span>│\n",
       "└───────────────────────────┴───────────────────────────┘\n",
       "</pre>\n"
      ],
      "text/plain": [
       "┏━━━━━━━━━━━━━━━━━━━━━━━━━━━┳━━━━━━━━━━━━━━━━━━━━━━━━━━━┓\n",
       "┃\u001b[1m \u001b[0m\u001b[1m       Test metric       \u001b[0m\u001b[1m \u001b[0m┃\u001b[1m \u001b[0m\u001b[1m      DataLoader 0       \u001b[0m\u001b[1m \u001b[0m┃\n",
       "┡━━━━━━━━━━━━━━━━━━━━━━━━━━━╇━━━━━━━━━━━━━━━━━━━━━━━━━━━┩\n",
       "│\u001b[36m \u001b[0m\u001b[36m        test_loss        \u001b[0m\u001b[36m \u001b[0m│\u001b[35m \u001b[0m\u001b[35m  0.041021447628736496   \u001b[0m\u001b[35m \u001b[0m│\n",
       "└───────────────────────────┴───────────────────────────┘\n"
      ]
     },
     "metadata": {},
     "output_type": "display_data"
    }
   ],
   "source": [
    "models_and_datamodules = {\n",
    "    \"tide\": (model, datamodule),\n",
    "}\n",
    "\n",
    "evaluator = ModelEvaluator(\n",
    "    models_and_datamodules=models_and_datamodules,\n",
    "    trainer_kwargs={\"accelerator\": \"cpu\"}\n",
    ")\n",
    "\n",
    "results = evaluator.test_models(cache_dir=\"/Users/cooper/Desktop/transfer-learning-publication/data/cache/first_run/\", force_recompute=True, apply_inverse_transform=True)"
   ]
  },
  {
   "cell_type": "code",
   "execution_count": 17,
   "id": "9a10550b",
   "metadata": {},
   "outputs": [
    {
     "name": "stdout",
     "output_type": "stream",
     "text": [
      "shape: (1, 5)\n",
      "┌────────────┬───────────┬──────────┬───────────────┬───────────┐\n",
      "│ model_name ┆ n_samples ┆ n_basins ┆ output_length ┆ has_dates │\n",
      "│ ---        ┆ ---       ┆ ---      ┆ ---           ┆ ---       │\n",
      "│ str        ┆ i64       ┆ i64      ┆ i64           ┆ bool      │\n",
      "╞════════════╪═══════════╪══════════╪═══════════════╪═══════════╡\n",
      "│ tide       ┆ 6146      ┆ 3        ┆ 10            ┆ true      │\n",
      "└────────────┴───────────┴──────────┴───────────────┴───────────┘\n"
     ]
    }
   ],
   "source": [
    "print(results.summary())"
   ]
  },
  {
   "cell_type": "code",
   "execution_count": 18,
   "id": "3387be0e",
   "metadata": {},
   "outputs": [
    {
     "data": {
      "text/html": [
       "<div><style>\n",
       ".dataframe > thead > tr,\n",
       ".dataframe > tbody > tr {\n",
       "  text-align: right;\n",
       "  white-space: pre-wrap;\n",
       "}\n",
       "</style>\n",
       "<small>shape: (9, 8)</small><table border=\"1\" class=\"dataframe\"><thead><tr><th>statistic</th><th>model_name</th><th>group_identifier</th><th>lead_time</th><th>prediction</th><th>observation</th><th>issue_date</th><th>prediction_date</th></tr><tr><td>str</td><td>str</td><td>str</td><td>f64</td><td>f64</td><td>f64</td><td>str</td><td>str</td></tr></thead><tbody><tr><td>&quot;count&quot;</td><td>&quot;61460&quot;</td><td>&quot;61460&quot;</td><td>61460.0</td><td>61460.0</td><td>61460.0</td><td>&quot;61460&quot;</td><td>&quot;61460&quot;</td></tr><tr><td>&quot;null_count&quot;</td><td>&quot;0&quot;</td><td>&quot;0&quot;</td><td>0.0</td><td>0.0</td><td>0.0</td><td>&quot;0&quot;</td><td>&quot;0&quot;</td></tr><tr><td>&quot;mean&quot;</td><td>null</td><td>null</td><td>5.5</td><td>1.668864</td><td>1.510034</td><td>&quot;2020-01-11 15:21:16.342336&quot;</td><td>&quot;2020-01-17 03:21:16.342336&quot;</td></tr><tr><td>&quot;std&quot;</td><td>null</td><td>null</td><td>2.872305</td><td>16.175229</td><td>1.865698</td><td>null</td><td>null</td></tr><tr><td>&quot;min&quot;</td><td>&quot;tide&quot;</td><td>&quot;tajikkyrgyz_15013&quot;</td><td>1.0</td><td>-9.9193e-9</td><td>2.1899e-15</td><td>&quot;2017-01-04 23:00:00&quot;</td><td>&quot;2017-01-05 23:00:00&quot;</td></tr><tr><td>&quot;25%&quot;</td><td>null</td><td>null</td><td>3.0</td><td>1.7746e-11</td><td>2.1899e-15</td><td>&quot;2018-08-16 22:00:00&quot;</td><td>&quot;2018-08-22 22:00:00&quot;</td></tr><tr><td>&quot;50%&quot;</td><td>null</td><td>null</td><td>6.0</td><td>0.829835</td><td>0.83</td><td>&quot;2020-01-10 23:00:00&quot;</td><td>&quot;2020-01-16 23:00:00&quot;</td></tr><tr><td>&quot;75%&quot;</td><td>null</td><td>null</td><td>8.0</td><td>2.131702</td><td>2.17</td><td>&quot;2021-06-05 22:00:00&quot;</td><td>&quot;2021-06-11 22:00:00&quot;</td></tr><tr><td>&quot;max&quot;</td><td>&quot;tide&quot;</td><td>&quot;tajikkyrgyz_15020&quot;</td><td>10.0</td><td>2573.510742</td><td>12.130001</td><td>&quot;2022-12-20 23:00:00&quot;</td><td>&quot;2022-12-30 23:00:00&quot;</td></tr></tbody></table></div>"
      ],
      "text/plain": [
       "shape: (9, 8)\n",
       "┌────────────┬────────────┬────────────┬───────────┬───────────┬───────────┬───────────┬───────────┐\n",
       "│ statistic  ┆ model_name ┆ group_iden ┆ lead_time ┆ predictio ┆ observati ┆ issue_dat ┆ predictio │\n",
       "│ ---        ┆ ---        ┆ tifier     ┆ ---       ┆ n         ┆ on        ┆ e         ┆ n_date    │\n",
       "│ str        ┆ str        ┆ ---        ┆ f64       ┆ ---       ┆ ---       ┆ ---       ┆ ---       │\n",
       "│            ┆            ┆ str        ┆           ┆ f64       ┆ f64       ┆ str       ┆ str       │\n",
       "╞════════════╪════════════╪════════════╪═══════════╪═══════════╪═══════════╪═══════════╪═══════════╡\n",
       "│ count      ┆ 61460      ┆ 61460      ┆ 61460.0   ┆ 61460.0   ┆ 61460.0   ┆ 61460     ┆ 61460     │\n",
       "│ null_count ┆ 0          ┆ 0          ┆ 0.0       ┆ 0.0       ┆ 0.0       ┆ 0         ┆ 0         │\n",
       "│ mean       ┆ null       ┆ null       ┆ 5.5       ┆ 1.668864  ┆ 1.510034  ┆ 2020-01-1 ┆ 2020-01-1 │\n",
       "│            ┆            ┆            ┆           ┆           ┆           ┆ 1 15:21:1 ┆ 7 03:21:1 │\n",
       "│            ┆            ┆            ┆           ┆           ┆           ┆ 6.342336  ┆ 6.342336  │\n",
       "│ std        ┆ null       ┆ null       ┆ 2.872305  ┆ 16.175229 ┆ 1.865698  ┆ null      ┆ null      │\n",
       "│ min        ┆ tide       ┆ tajikkyrgy ┆ 1.0       ┆ -9.9193e- ┆ 2.1899e-1 ┆ 2017-01-0 ┆ 2017-01-0 │\n",
       "│            ┆            ┆ z_15013    ┆           ┆ 9         ┆ 5         ┆ 4         ┆ 5         │\n",
       "│            ┆            ┆            ┆           ┆           ┆           ┆ 23:00:00  ┆ 23:00:00  │\n",
       "│ 25%        ┆ null       ┆ null       ┆ 3.0       ┆ 1.7746e-1 ┆ 2.1899e-1 ┆ 2018-08-1 ┆ 2018-08-2 │\n",
       "│            ┆            ┆            ┆           ┆ 1         ┆ 5         ┆ 6         ┆ 2         │\n",
       "│            ┆            ┆            ┆           ┆           ┆           ┆ 22:00:00  ┆ 22:00:00  │\n",
       "│ 50%        ┆ null       ┆ null       ┆ 6.0       ┆ 0.829835  ┆ 0.83      ┆ 2020-01-1 ┆ 2020-01-1 │\n",
       "│            ┆            ┆            ┆           ┆           ┆           ┆ 0         ┆ 6         │\n",
       "│            ┆            ┆            ┆           ┆           ┆           ┆ 23:00:00  ┆ 23:00:00  │\n",
       "│ 75%        ┆ null       ┆ null       ┆ 8.0       ┆ 2.131702  ┆ 2.17      ┆ 2021-06-0 ┆ 2021-06-1 │\n",
       "│            ┆            ┆            ┆           ┆           ┆           ┆ 5         ┆ 1         │\n",
       "│            ┆            ┆            ┆           ┆           ┆           ┆ 22:00:00  ┆ 22:00:00  │\n",
       "│ max        ┆ tide       ┆ tajikkyrgy ┆ 10.0      ┆ 2573.5107 ┆ 12.130001 ┆ 2022-12-2 ┆ 2022-12-3 │\n",
       "│            ┆            ┆ z_15020    ┆           ┆ 42        ┆           ┆ 0         ┆ 0         │\n",
       "│            ┆            ┆            ┆           ┆           ┆           ┆ 23:00:00  ┆ 23:00:00  │\n",
       "└────────────┴────────────┴────────────┴───────────┴───────────┴───────────┴───────────┴───────────┘"
      ]
     },
     "execution_count": 18,
     "metadata": {},
     "output_type": "execute_result"
    }
   ],
   "source": [
    "results.raw_data.collect().describe()"
   ]
  },
  {
   "cell_type": "code",
   "execution_count": 19,
   "id": "bcdfe4fc",
   "metadata": {},
   "outputs": [
    {
     "data": {
      "text/html": [
       "<div><style>\n",
       ".dataframe > thead > tr,\n",
       ".dataframe > tbody > tr {\n",
       "  text-align: right;\n",
       "  white-space: pre-wrap;\n",
       "}\n",
       "</style>\n",
       "<small>shape: (20_610, 7)</small><table border=\"1\" class=\"dataframe\"><thead><tr><th>model_name</th><th>group_identifier</th><th>lead_time</th><th>prediction</th><th>observation</th><th>issue_date</th><th>prediction_date</th></tr><tr><td>str</td><td>str</td><td>i64</td><td>f64</td><td>f64</td><td>datetime[μs]</td><td>datetime[μs]</td></tr></thead><tbody><tr><td>&quot;tide&quot;</td><td>&quot;tajikkyrgyz_15013&quot;</td><td>1</td><td>3.729414</td><td>2.98</td><td>2017-04-30 22:00:00</td><td>2017-05-01 22:00:00</td></tr><tr><td>&quot;tide&quot;</td><td>&quot;tajikkyrgyz_15013&quot;</td><td>2</td><td>2.190897</td><td>2.81</td><td>2017-04-30 22:00:00</td><td>2017-05-02 22:00:00</td></tr><tr><td>&quot;tide&quot;</td><td>&quot;tajikkyrgyz_15013&quot;</td><td>3</td><td>2.713711</td><td>2.98</td><td>2017-04-30 22:00:00</td><td>2017-05-03 22:00:00</td></tr><tr><td>&quot;tide&quot;</td><td>&quot;tajikkyrgyz_15013&quot;</td><td>4</td><td>3.974838</td><td>3.93</td><td>2017-04-30 22:00:00</td><td>2017-05-04 22:00:00</td></tr><tr><td>&quot;tide&quot;</td><td>&quot;tajikkyrgyz_15013&quot;</td><td>5</td><td>2.415035</td><td>4.399999</td><td>2017-04-30 22:00:00</td><td>2017-05-05 22:00:00</td></tr><tr><td>&hellip;</td><td>&hellip;</td><td>&hellip;</td><td>&hellip;</td><td>&hellip;</td><td>&hellip;</td><td>&hellip;</td></tr><tr><td>&quot;tide&quot;</td><td>&quot;tajikkyrgyz_15013&quot;</td><td>6</td><td>0.611998</td><td>0.43</td><td>2022-12-20 23:00:00</td><td>2022-12-26 23:00:00</td></tr><tr><td>&quot;tide&quot;</td><td>&quot;tajikkyrgyz_15013&quot;</td><td>7</td><td>0.723857</td><td>0.44</td><td>2022-12-20 23:00:00</td><td>2022-12-27 23:00:00</td></tr><tr><td>&quot;tide&quot;</td><td>&quot;tajikkyrgyz_15013&quot;</td><td>8</td><td>0.734106</td><td>0.45</td><td>2022-12-20 23:00:00</td><td>2022-12-28 23:00:00</td></tr><tr><td>&quot;tide&quot;</td><td>&quot;tajikkyrgyz_15013&quot;</td><td>9</td><td>0.51781</td><td>0.45</td><td>2022-12-20 23:00:00</td><td>2022-12-29 23:00:00</td></tr><tr><td>&quot;tide&quot;</td><td>&quot;tajikkyrgyz_15013&quot;</td><td>10</td><td>0.621499</td><td>0.46</td><td>2022-12-20 23:00:00</td><td>2022-12-30 23:00:00</td></tr></tbody></table></div>"
      ],
      "text/plain": [
       "shape: (20_610, 7)\n",
       "┌────────────┬───────────────┬───────────┬────────────┬─────────────┬───────────────┬──────────────┐\n",
       "│ model_name ┆ group_identif ┆ lead_time ┆ prediction ┆ observation ┆ issue_date    ┆ prediction_d │\n",
       "│ ---        ┆ ier           ┆ ---       ┆ ---        ┆ ---         ┆ ---           ┆ ate          │\n",
       "│ str        ┆ ---           ┆ i64       ┆ f64        ┆ f64         ┆ datetime[μs]  ┆ ---          │\n",
       "│            ┆ str           ┆           ┆            ┆             ┆               ┆ datetime[μs] │\n",
       "╞════════════╪═══════════════╪═══════════╪════════════╪═════════════╪═══════════════╪══════════════╡\n",
       "│ tide       ┆ tajikkyrgyz_1 ┆ 1         ┆ 3.729414   ┆ 2.98        ┆ 2017-04-30    ┆ 2017-05-01   │\n",
       "│            ┆ 5013          ┆           ┆            ┆             ┆ 22:00:00      ┆ 22:00:00     │\n",
       "│ tide       ┆ tajikkyrgyz_1 ┆ 2         ┆ 2.190897   ┆ 2.81        ┆ 2017-04-30    ┆ 2017-05-02   │\n",
       "│            ┆ 5013          ┆           ┆            ┆             ┆ 22:00:00      ┆ 22:00:00     │\n",
       "│ tide       ┆ tajikkyrgyz_1 ┆ 3         ┆ 2.713711   ┆ 2.98        ┆ 2017-04-30    ┆ 2017-05-03   │\n",
       "│            ┆ 5013          ┆           ┆            ┆             ┆ 22:00:00      ┆ 22:00:00     │\n",
       "│ tide       ┆ tajikkyrgyz_1 ┆ 4         ┆ 3.974838   ┆ 3.93        ┆ 2017-04-30    ┆ 2017-05-04   │\n",
       "│            ┆ 5013          ┆           ┆            ┆             ┆ 22:00:00      ┆ 22:00:00     │\n",
       "│ tide       ┆ tajikkyrgyz_1 ┆ 5         ┆ 2.415035   ┆ 4.399999    ┆ 2017-04-30    ┆ 2017-05-05   │\n",
       "│            ┆ 5013          ┆           ┆            ┆             ┆ 22:00:00      ┆ 22:00:00     │\n",
       "│ …          ┆ …             ┆ …         ┆ …          ┆ …           ┆ …             ┆ …            │\n",
       "│ tide       ┆ tajikkyrgyz_1 ┆ 6         ┆ 0.611998   ┆ 0.43        ┆ 2022-12-20    ┆ 2022-12-26   │\n",
       "│            ┆ 5013          ┆           ┆            ┆             ┆ 23:00:00      ┆ 23:00:00     │\n",
       "│ tide       ┆ tajikkyrgyz_1 ┆ 7         ┆ 0.723857   ┆ 0.44        ┆ 2022-12-20    ┆ 2022-12-27   │\n",
       "│            ┆ 5013          ┆           ┆            ┆             ┆ 23:00:00      ┆ 23:00:00     │\n",
       "│ tide       ┆ tajikkyrgyz_1 ┆ 8         ┆ 0.734106   ┆ 0.45        ┆ 2022-12-20    ┆ 2022-12-28   │\n",
       "│            ┆ 5013          ┆           ┆            ┆             ┆ 23:00:00      ┆ 23:00:00     │\n",
       "│ tide       ┆ tajikkyrgyz_1 ┆ 9         ┆ 0.51781    ┆ 0.45        ┆ 2022-12-20    ┆ 2022-12-29   │\n",
       "│            ┆ 5013          ┆           ┆            ┆             ┆ 23:00:00      ┆ 23:00:00     │\n",
       "│ tide       ┆ tajikkyrgyz_1 ┆ 10        ┆ 0.621499   ┆ 0.46        ┆ 2022-12-20    ┆ 2022-12-30   │\n",
       "│            ┆ 5013          ┆           ┆            ┆             ┆ 23:00:00      ┆ 23:00:00     │\n",
       "└────────────┴───────────────┴───────────┴────────────┴─────────────┴───────────────┴──────────────┘"
      ]
     },
     "execution_count": 19,
     "metadata": {},
     "output_type": "execute_result"
    }
   ],
   "source": [
    "results.filter(model_name=\"tide\", basin_id=\"tajikkyrgyz_15013\").collect()"
   ]
  },
  {
   "cell_type": "code",
   "execution_count": 20,
   "id": "97b21144",
   "metadata": {},
   "outputs": [
    {
     "data": {
      "text/plain": [
       "transfer_learning_publication.transforms.composite.CompositePipeline"
      ]
     },
     "execution_count": 20,
     "metadata": {},
     "output_type": "execute_result"
    }
   ],
   "source": [
    "type(datamodule._pipeline)"
   ]
  }
 ],
 "metadata": {
  "kernelspec": {
   "display_name": "transfer-learning-publication",
   "language": "python",
   "name": "python3"
  },
  "language_info": {
   "codemirror_mode": {
    "name": "ipython",
    "version": 3
   },
   "file_extension": ".py",
   "mimetype": "text/x-python",
   "name": "python",
   "nbconvert_exporter": "python",
   "pygments_lexer": "ipython3",
   "version": "3.12.8"
  }
 },
 "nbformat": 4,
 "nbformat_minor": 5
}
