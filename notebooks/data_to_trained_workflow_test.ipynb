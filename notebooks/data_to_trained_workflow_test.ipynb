{
 "cells": [
  {
   "cell_type": "code",
   "execution_count": 1,
   "id": "456502af",
   "metadata": {},
   "outputs": [],
   "source": [
    "from transfer_learning_publication.models import ModelFactory\n",
    "from transfer_learning_publication.data import CaravanDataSource, LSHDataModule\n",
    "from transfer_learning_publication.transforms import PipelineBuilder, Log, ZScore\n",
    "from transfer_learning_publication.models import ModelFactory, ModelEvaluator\n",
    "from transfer_learning_publication.models.tide import LitTiDE\n",
    "from transfer_learning_publication.callbacks import HFUploadCallback\n",
    "import lightning as pl\n",
    "from litmodels.integrations import LightningModelCheckpoint\n",
    "import torch\n",
    "from lightning.pytorch.callbacks import ModelCheckpoint, EarlyStopping, Callback, LearningRateMonitor, RichProgressBar\n",
    "import matplotlib.pyplot as plt\n",
    "import joblib\n",
    "import os\n",
    "from huggingface_hub import upload_file"
   ]
  },
  {
   "cell_type": "markdown",
   "id": "6ab7e6b4",
   "metadata": {},
   "source": [
    "## Transform data and sink to disk"
   ]
  },
  {
   "cell_type": "code",
   "execution_count": 2,
   "id": "471efee7",
   "metadata": {},
   "outputs": [],
   "source": [
    "ts_features = [\"temperature_2m_max\",\n",
    "            \"temperature_2m_min\",\n",
    "            \"potential_evaporation_sum_FAO_PENMAN_MONTEITH\",\n",
    "            \"potential_evaporation_sum_ERA5_LAND\",\n",
    "            \"temperature_2m_mean\",\n",
    "            \"total_precipitation_sum\",\n",
    "            \"streamflow\",\n",
    "            \"streamflow_was_filled\",\n",
    "            \"sin_day_of_year\",\n",
    "            \"cos_day_of_year\"]\n",
    "\n",
    "static_features = [\"p_mean\",\n",
    "            \"area\",\n",
    "            \"ele_mt_sav\",\n",
    "            \"high_prec_dur\",\n",
    "            \"frac_snow\",\n",
    "            \"high_prec_freq\",\n",
    "            \"slp_dg_sav\",\n",
    "            \"cly_pc_sav\",\n",
    "            \"aridity_ERA5_LAND\",\n",
    "            \"aridity_FAO_PM\",]\n",
    "\n",
    "stages = [\"train\", \"val\", \"test\"]"
   ]
  },
  {
   "cell_type": "code",
   "execution_count": 3,
   "id": "0a04b2fa",
   "metadata": {},
   "outputs": [],
   "source": [
    "# ts_preprocessing_pipelines = (\n",
    "#     PipelineBuilder(group_identifier=\"gauge_id\")\n",
    "#     .add_per_basin(Log(), columns=[\"streamflow\"])\n",
    "#     .add_global(ZScore(), columns=[\"temperature_2m_max\",\n",
    "#             \"temperature_2m_min\",\n",
    "#             \"potential_evaporation_sum_FAO_PENMAN_MONTEITH\",\n",
    "#             \"potential_evaporation_sum_ERA5_LAND\",\n",
    "#             \"temperature_2m_mean\",\n",
    "#             \"total_precipitation_sum\",\n",
    "#             \"streamflow\"])\n",
    "#     .build()\n",
    "# )\n",
    "\n",
    "# static_preprocessing_pipelines = (\n",
    "#     PipelineBuilder(group_identifier=\"gauge_id\")\n",
    "#     .add_global(ZScore(), columns=static_features)\n",
    "#     .build()\n",
    "# )\n",
    "\n",
    "# for stage in stages:\n",
    "#     caravan = CaravanDataSource(f\"/Users/cooper/Desktop/CARAVAN_CLEAN/{stage}\", region=\"tajikkyrgyz\")\n",
    "#     gauge_ids = caravan.list_gauge_ids()\n",
    "#     ts_data = caravan.get_timeseries(\n",
    "#         gauge_ids[:3], \n",
    "#         columns=ts_features\n",
    "#     )\n",
    "#     static_data = caravan.get_static_attributes(\n",
    "#         gauge_ids[:3], \n",
    "#         columns=static_features\n",
    "#     )\n",
    "\n",
    "#     if stage == \"train\":\n",
    "#         ts_transformed = ts_preprocessing_pipelines.fit_transform(ts_data.collect())\n",
    "#         static_transformed = static_preprocessing_pipelines.fit_transform(static_data.collect())\n",
    "#     else:\n",
    "#         ts_transformed = ts_preprocessing_pipelines.transform(ts_data.collect())\n",
    "#         static_transformed = static_preprocessing_pipelines.transform(static_data.collect())\n",
    "\n",
    "#     caravan.write_timeseries(ts_transformed, f\"/Users/cooper/Desktop/first-test/{stage}\", overwrite=True)\n",
    "#     caravan.write_static_attributes(static_transformed, f\"/Users/cooper/Desktop/first-test/{stage}\", overwrite=True)\n",
    "\n",
    "#     print(f\"Completed {stage} stage\")"
   ]
  },
  {
   "cell_type": "code",
   "execution_count": 4,
   "id": "577e9c72",
   "metadata": {},
   "outputs": [],
   "source": [
    "# # Dump the fitted pipelines\n",
    "# joblib.dump(ts_preprocessing_pipelines, \"/Users/cooper/Desktop/first-test/ts_pipeline.joblib\")\n",
    "# joblib.dump(static_preprocessing_pipelines, \"/Users/cooper/Desktop/first-test/static_pipeline.joblib\")"
   ]
  },
  {
   "cell_type": "markdown",
   "id": "ec476f67",
   "metadata": {},
   "source": [
    "## Create datamodule and instantiate model for training"
   ]
  },
  {
   "cell_type": "code",
   "execution_count": 5,
   "id": "964e2617",
   "metadata": {},
   "outputs": [],
   "source": [
    "config_path = \"/Users/cooper/Desktop/transfer-learning-publication/configs/first_run.yaml\""
   ]
  },
  {
   "cell_type": "code",
   "execution_count": 6,
   "id": "309f2506",
   "metadata": {},
   "outputs": [],
   "source": [
    "datamodule = LSHDataModule(config_path=config_path)\n",
    "\n",
    "model_factory = ModelFactory()\n",
    "model = model_factory.create_from_config(config_path=config_path)"
   ]
  },
  {
   "cell_type": "code",
   "execution_count": 7,
   "id": "6a9f4734",
   "metadata": {},
   "outputs": [
    {
     "name": "stderr",
     "output_type": "stream",
     "text": [
      "GPU available: True (mps), used: True\n",
      "TPU available: False, using: 0 TPU cores\n",
      "HPU available: False, using: 0 HPUs\n",
      "/Users/cooper/Desktop/transfer-learning-publication/.venv/lib/python3.12/site-packages/lightning/pytorch/callbacks/model_checkpoint.py:751: Checkpoint directory /Users/cooper/Desktop/transfer-learning-publication/notebooks/checkpoints exists and is not empty.\n"
     ]
    },
    {
     "data": {
      "text/html": [
       "<pre style=\"white-space:pre;overflow-x:auto;line-height:normal;font-family:Menlo,'DejaVu Sans Mono',consolas,'Courier New',monospace\">┏━━━┳━━━━━━━━━━━┳━━━━━━━━━━━┳━━━━━━━━┳━━━━━━━┓\n",
       "┃<span style=\"color: #800080; text-decoration-color: #800080; font-weight: bold\">   </span>┃<span style=\"color: #800080; text-decoration-color: #800080; font-weight: bold\"> Name      </span>┃<span style=\"color: #800080; text-decoration-color: #800080; font-weight: bold\"> Type      </span>┃<span style=\"color: #800080; text-decoration-color: #800080; font-weight: bold\"> Params </span>┃<span style=\"color: #800080; text-decoration-color: #800080; font-weight: bold\"> Mode  </span>┃\n",
       "┡━━━╇━━━━━━━━━━━╇━━━━━━━━━━━╇━━━━━━━━╇━━━━━━━┩\n",
       "│<span style=\"color: #7f7f7f; text-decoration-color: #7f7f7f\"> 0 </span>│ criterion │ MSELoss   │      0 │ train │\n",
       "│<span style=\"color: #7f7f7f; text-decoration-color: #7f7f7f\"> 1 </span>│ rev_in    │ RevIN     │      2 │ train │\n",
       "│<span style=\"color: #7f7f7f; text-decoration-color: #7f7f7f\"> 2 </span>│ model     │ TiDEModel │  178 K │ train │\n",
       "└───┴───────────┴───────────┴────────┴───────┘\n",
       "</pre>\n"
      ],
      "text/plain": [
       "┏━━━┳━━━━━━━━━━━┳━━━━━━━━━━━┳━━━━━━━━┳━━━━━━━┓\n",
       "┃\u001b[1;35m \u001b[0m\u001b[1;35m \u001b[0m\u001b[1;35m \u001b[0m┃\u001b[1;35m \u001b[0m\u001b[1;35mName     \u001b[0m\u001b[1;35m \u001b[0m┃\u001b[1;35m \u001b[0m\u001b[1;35mType     \u001b[0m\u001b[1;35m \u001b[0m┃\u001b[1;35m \u001b[0m\u001b[1;35mParams\u001b[0m\u001b[1;35m \u001b[0m┃\u001b[1;35m \u001b[0m\u001b[1;35mMode \u001b[0m\u001b[1;35m \u001b[0m┃\n",
       "┡━━━╇━━━━━━━━━━━╇━━━━━━━━━━━╇━━━━━━━━╇━━━━━━━┩\n",
       "│\u001b[2m \u001b[0m\u001b[2m0\u001b[0m\u001b[2m \u001b[0m│ criterion │ MSELoss   │      0 │ train │\n",
       "│\u001b[2m \u001b[0m\u001b[2m1\u001b[0m\u001b[2m \u001b[0m│ rev_in    │ RevIN     │      2 │ train │\n",
       "│\u001b[2m \u001b[0m\u001b[2m2\u001b[0m\u001b[2m \u001b[0m│ model     │ TiDEModel │  178 K │ train │\n",
       "└───┴───────────┴───────────┴────────┴───────┘\n"
      ]
     },
     "metadata": {},
     "output_type": "display_data"
    },
    {
     "data": {
      "text/html": [
       "<pre style=\"white-space:pre;overflow-x:auto;line-height:normal;font-family:Menlo,'DejaVu Sans Mono',consolas,'Courier New',monospace\"><span style=\"font-weight: bold\">Trainable params</span>: 178 K                                                                                            \n",
       "<span style=\"font-weight: bold\">Non-trainable params</span>: 0                                                                                            \n",
       "<span style=\"font-weight: bold\">Total params</span>: 178 K                                                                                                \n",
       "<span style=\"font-weight: bold\">Total estimated model params size (MB)</span>: 0                                                                          \n",
       "<span style=\"font-weight: bold\">Modules in train mode</span>: 27                                                                                          \n",
       "<span style=\"font-weight: bold\">Modules in eval mode</span>: 0                                                                                            \n",
       "</pre>\n"
      ],
      "text/plain": [
       "\u001b[1mTrainable params\u001b[0m: 178 K                                                                                            \n",
       "\u001b[1mNon-trainable params\u001b[0m: 0                                                                                            \n",
       "\u001b[1mTotal params\u001b[0m: 178 K                                                                                                \n",
       "\u001b[1mTotal estimated model params size (MB)\u001b[0m: 0                                                                          \n",
       "\u001b[1mModules in train mode\u001b[0m: 27                                                                                          \n",
       "\u001b[1mModules in eval mode\u001b[0m: 0                                                                                            \n"
      ]
     },
     "metadata": {},
     "output_type": "display_data"
    },
    {
     "data": {
      "application/vnd.jupyter.widget-view+json": {
       "model_id": "15d5658895c14cdc8bb4ac3c8e5924e1",
       "version_major": 2,
       "version_minor": 0
      },
      "text/plain": [
       "Output()"
      ]
     },
     "metadata": {},
     "output_type": "display_data"
    },
    {
     "name": "stderr",
     "output_type": "stream",
     "text": [
      "Metric val_loss improved. New best score: 0.040\n",
      "`Trainer.fit` stopped: `max_epochs=1` reached.\n"
     ]
    },
    {
     "data": {
      "application/vnd.jupyter.widget-view+json": {
       "model_id": "dec2b63e136f44d8bcda7de6977612d0",
       "version_major": 2,
       "version_minor": 0
      },
      "text/plain": [
       "best-epoch=00-val_loss=0.04-v1.ckpt:   0%|          | 0.00/2.18M [00:00<?, ?B/s]"
      ]
     },
     "metadata": {},
     "output_type": "display_data"
    },
    {
     "data": {
      "text/html": [
       "<pre style=\"white-space:pre;overflow-x:auto;line-height:normal;font-family:Menlo,'DejaVu Sans Mono',consolas,'Courier New',monospace\"></pre>\n"
      ],
      "text/plain": []
     },
     "metadata": {},
     "output_type": "display_data"
    }
   ],
   "source": [
    "trainer = pl.Trainer(\n",
    "    max_epochs=1,\n",
    "    accelerator=\"auto\",\n",
    "    devices=1,\n",
    "    logger=True,\n",
    "    callbacks=[\n",
    "        ModelCheckpoint(\n",
    "            monitor=\"val_loss\", \n",
    "            mode=\"min\", \n",
    "            save_top_k=1,\n",
    "            dirpath=\"checkpoints\",\n",
    "            filename=\"best-{epoch:02d}-{val_loss:.2f}\"\n",
    "        ),\n",
    "        HFUploadCallback(\n",
    "            repo_id=\"CooperBigFoot/test-repo\",\n",
    "            repo_type=\"model\",\n",
    "            path_in_repo=\"checkpoints/{filename}\",\n",
    "            private=False\n",
    "        ),\n",
    "        EarlyStopping(\n",
    "            monitor=\"val_loss\", \n",
    "            mode=\"min\", \n",
    "            patience=5, \n",
    "            verbose=True\n",
    "        ),\n",
    "        RichProgressBar() \n",
    "    ],\n",
    "    enable_progress_bar=True,\n",
    "    log_every_n_steps=1\n",
    ")\n",
    "\n",
    "trainer.fit(model=model, datamodule=datamodule)"
   ]
  },
  {
   "cell_type": "code",
   "execution_count": 8,
   "id": "5a8334f4",
   "metadata": {},
   "outputs": [
    {
     "name": "stderr",
     "output_type": "stream",
     "text": [
      "💡 Tip: For seamless cloud uploads and versioning, try installing [litmodels](https://pypi.org/project/litmodels/) to enable LitModelCheckpoint, which syncs automatically with the Lightning model registry.\n",
      "GPU available: True (mps), used: False\n",
      "TPU available: False, using: 0 TPU cores\n",
      "HPU available: False, using: 0 HPUs\n",
      "/Users/cooper/Desktop/transfer-learning-publication/.venv/lib/python3.12/site-packages/lightning/pytorch/trainer/setup.py:177: GPU available but not used. You can set it by doing `Trainer(accelerator='gpu')`.\n"
     ]
    },
    {
     "data": {
      "application/vnd.jupyter.widget-view+json": {
       "model_id": "7b29b6aa3eca41eb93127b715d8b77d3",
       "version_major": 2,
       "version_minor": 0
      },
      "text/plain": [
       "Testing: |          | 0/? [00:00<?, ?it/s]"
      ]
     },
     "metadata": {},
     "output_type": "display_data"
    },
    {
     "data": {
      "text/html": [
       "<pre style=\"white-space:pre;overflow-x:auto;line-height:normal;font-family:Menlo,'DejaVu Sans Mono',consolas,'Courier New',monospace\">┏━━━━━━━━━━━━━━━━━━━━━━━━━━━┳━━━━━━━━━━━━━━━━━━━━━━━━━━━┓\n",
       "┃<span style=\"font-weight: bold\">        Test metric        </span>┃<span style=\"font-weight: bold\">       DataLoader 0        </span>┃\n",
       "┡━━━━━━━━━━━━━━━━━━━━━━━━━━━╇━━━━━━━━━━━━━━━━━━━━━━━━━━━┩\n",
       "│<span style=\"color: #008080; text-decoration-color: #008080\">         test_loss         </span>│<span style=\"color: #800080; text-decoration-color: #800080\">   0.047443240880966187    </span>│\n",
       "└───────────────────────────┴───────────────────────────┘\n",
       "</pre>\n"
      ],
      "text/plain": [
       "┏━━━━━━━━━━━━━━━━━━━━━━━━━━━┳━━━━━━━━━━━━━━━━━━━━━━━━━━━┓\n",
       "┃\u001b[1m \u001b[0m\u001b[1m       Test metric       \u001b[0m\u001b[1m \u001b[0m┃\u001b[1m \u001b[0m\u001b[1m      DataLoader 0       \u001b[0m\u001b[1m \u001b[0m┃\n",
       "┡━━━━━━━━━━━━━━━━━━━━━━━━━━━╇━━━━━━━━━━━━━━━━━━━━━━━━━━━┩\n",
       "│\u001b[36m \u001b[0m\u001b[36m        test_loss        \u001b[0m\u001b[36m \u001b[0m│\u001b[35m \u001b[0m\u001b[35m  0.047443240880966187   \u001b[0m\u001b[35m \u001b[0m│\n",
       "└───────────────────────────┴───────────────────────────┘\n"
      ]
     },
     "metadata": {},
     "output_type": "display_data"
    },
    {
     "name": "stderr",
     "output_type": "stream",
     "text": [
      "/Users/cooper/Desktop/transfer-learning-publication/src/transfer_learning_publication/models/model_evaluator.py:481: UserWarning: The given NumPy array is not writable, and PyTorch does not support non-writable tensors. This means writing to this tensor will result in undefined behavior. You may want to copy the array to protect its data or make it writable before converting it to a tensor. This type of warning will be suppressed for the rest of this program. (Triggered internally at /Users/runner/work/pytorch/pytorch/pytorch/torch/csrc/utils/tensor_numpy.cpp:209.)\n",
      "  predictions=torch.from_numpy(pred_reshaped).float(),\n"
     ]
    }
   ],
   "source": [
    "models_and_datamodules = {\n",
    "    \"tide\": (model, datamodule),\n",
    "}\n",
    "\n",
    "evaluator = ModelEvaluator(\n",
    "    models_and_datamodules=models_and_datamodules,\n",
    "    trainer_kwargs={\"accelerator\": \"cpu\"}\n",
    ")\n",
    "\n",
    "results = evaluator.test_models(cache_dir=\"/Users/cooper/Desktop/transfer-learning-publication/data/cache/first_run/\", force_recompute=True, apply_inverse_transform=True)"
   ]
  },
  {
   "cell_type": "code",
   "execution_count": 9,
   "id": "9a10550b",
   "metadata": {},
   "outputs": [
    {
     "name": "stdout",
     "output_type": "stream",
     "text": [
      "shape: (1, 5)\n",
      "┌────────────┬───────────┬──────────┬───────────────┬───────────┐\n",
      "│ model_name ┆ n_samples ┆ n_basins ┆ output_length ┆ has_dates │\n",
      "│ ---        ┆ ---       ┆ ---      ┆ ---           ┆ ---       │\n",
      "│ str        ┆ i64       ┆ i64      ┆ i64           ┆ bool      │\n",
      "╞════════════╪═══════════╪══════════╪═══════════════╪═══════════╡\n",
      "│ tide       ┆ 6146      ┆ 3        ┆ 10            ┆ true      │\n",
      "└────────────┴───────────┴──────────┴───────────────┴───────────┘\n"
     ]
    }
   ],
   "source": [
    "print(results.summary())"
   ]
  },
  {
   "cell_type": "code",
   "execution_count": 10,
   "id": "3387be0e",
   "metadata": {},
   "outputs": [
    {
     "name": "stdout",
     "output_type": "stream",
     "text": [
      "shape: (9, 8)\n",
      "┌────────────┬────────────┬────────────┬───────────┬───────────┬───────────┬───────────┬───────────┐\n",
      "│ statistic  ┆ model_name ┆ group_iden ┆ lead_time ┆ predictio ┆ observati ┆ issue_dat ┆ predictio │\n",
      "│ ---        ┆ ---        ┆ tifier     ┆ ---       ┆ n         ┆ on        ┆ e         ┆ n_date    │\n",
      "│ str        ┆ str        ┆ ---        ┆ f64       ┆ ---       ┆ ---       ┆ ---       ┆ ---       │\n",
      "│            ┆            ┆ str        ┆           ┆ f64       ┆ f64       ┆ str       ┆ str       │\n",
      "╞════════════╪════════════╪════════════╪═══════════╪═══════════╪═══════════╪═══════════╪═══════════╡\n",
      "│ count      ┆ 61460      ┆ 61460      ┆ 61460.0   ┆ 61460.0   ┆ 61460.0   ┆ 61460     ┆ 61460     │\n",
      "│ null_count ┆ 0          ┆ 0          ┆ 0.0       ┆ 0.0       ┆ 0.0       ┆ 0         ┆ 0         │\n",
      "│ mean       ┆ null       ┆ null       ┆ 5.5       ┆ 1.476841  ┆ 1.510034  ┆ 2020-01-1 ┆ 2020-01-1 │\n",
      "│            ┆            ┆            ┆           ┆           ┆           ┆ 1 15:21:1 ┆ 7 03:21:1 │\n",
      "│            ┆            ┆            ┆           ┆           ┆           ┆ 6.342336  ┆ 6.342336  │\n",
      "│ std        ┆ null       ┆ null       ┆ 2.872305  ┆ 2.651385  ┆ 1.865698  ┆ null      ┆ null      │\n",
      "│ min        ┆ tide       ┆ tajikkyrgy ┆ 1.0       ┆ -9.8529e- ┆ 2.1899e-1 ┆ 2017-01-0 ┆ 2017-01-0 │\n",
      "│            ┆            ┆ z_15013    ┆           ┆ 9         ┆ 5         ┆ 4         ┆ 5         │\n",
      "│            ┆            ┆            ┆           ┆           ┆           ┆ 23:00:00  ┆ 23:00:00  │\n",
      "│ 25%        ┆ null       ┆ null       ┆ 3.0       ┆ 1.3221e-1 ┆ 2.1899e-1 ┆ 2018-08-1 ┆ 2018-08-2 │\n",
      "│            ┆            ┆            ┆           ┆ 1         ┆ 5         ┆ 6         ┆ 2         │\n",
      "│            ┆            ┆            ┆           ┆           ┆           ┆ 22:00:00  ┆ 22:00:00  │\n",
      "│ 50%        ┆ null       ┆ null       ┆ 6.0       ┆ 0.825888  ┆ 0.83      ┆ 2020-01-1 ┆ 2020-01-1 │\n",
      "│            ┆            ┆            ┆           ┆           ┆           ┆ 0         ┆ 6         │\n",
      "│            ┆            ┆            ┆           ┆           ┆           ┆ 23:00:00  ┆ 23:00:00  │\n",
      "│ 75%        ┆ null       ┆ null       ┆ 8.0       ┆ 2.11118   ┆ 2.17      ┆ 2021-06-0 ┆ 2021-06-1 │\n",
      "│            ┆            ┆            ┆           ┆           ┆           ┆ 5         ┆ 1         │\n",
      "│            ┆            ┆            ┆           ┆           ┆           ┆ 22:00:00  ┆ 22:00:00  │\n",
      "│ max        ┆ tide       ┆ tajikkyrgy ┆ 10.0      ┆ 311.83349 ┆ 12.130001 ┆ 2022-12-2 ┆ 2022-12-3 │\n",
      "│            ┆            ┆ z_15020    ┆           ┆ 6         ┆           ┆ 0         ┆ 0         │\n",
      "│            ┆            ┆            ┆           ┆           ┆           ┆ 23:00:00  ┆ 23:00:00  │\n",
      "└────────────┴────────────┴────────────┴───────────┴───────────┴───────────┴───────────┴───────────┘\n"
     ]
    }
   ],
   "source": [
    "print(results.raw_data.collect().describe())"
   ]
  },
  {
   "cell_type": "code",
   "execution_count": 11,
   "id": "bcdfe4fc",
   "metadata": {},
   "outputs": [
    {
     "name": "stdout",
     "output_type": "stream",
     "text": [
      "shape: (20_610, 7)\n",
      "┌────────────┬───────────────┬───────────┬────────────┬─────────────┬───────────────┬──────────────┐\n",
      "│ model_name ┆ group_identif ┆ lead_time ┆ prediction ┆ observation ┆ issue_date    ┆ prediction_d │\n",
      "│ ---        ┆ ier           ┆ ---       ┆ ---        ┆ ---         ┆ ---           ┆ ate          │\n",
      "│ str        ┆ ---           ┆ i64       ┆ f64        ┆ f64         ┆ datetime[μs]  ┆ ---          │\n",
      "│            ┆ str           ┆           ┆            ┆             ┆               ┆ datetime[μs] │\n",
      "╞════════════╪═══════════════╪═══════════╪════════════╪═════════════╪═══════════════╪══════════════╡\n",
      "│ tide       ┆ tajikkyrgyz_1 ┆ 1         ┆ 4.324876   ┆ 2.98        ┆ 2017-04-30    ┆ 2017-05-01   │\n",
      "│            ┆ 5013          ┆           ┆            ┆             ┆ 22:00:00      ┆ 22:00:00     │\n",
      "│ tide       ┆ tajikkyrgyz_1 ┆ 2         ┆ 2.01332    ┆ 2.81        ┆ 2017-04-30    ┆ 2017-05-02   │\n",
      "│            ┆ 5013          ┆           ┆            ┆             ┆ 22:00:00      ┆ 22:00:00     │\n",
      "│ tide       ┆ tajikkyrgyz_1 ┆ 3         ┆ 4.728951   ┆ 2.98        ┆ 2017-04-30    ┆ 2017-05-03   │\n",
      "│            ┆ 5013          ┆           ┆            ┆             ┆ 22:00:00      ┆ 22:00:00     │\n",
      "│ tide       ┆ tajikkyrgyz_1 ┆ 4         ┆ 2.559996   ┆ 3.93        ┆ 2017-04-30    ┆ 2017-05-04   │\n",
      "│            ┆ 5013          ┆           ┆            ┆             ┆ 22:00:00      ┆ 22:00:00     │\n",
      "│ tide       ┆ tajikkyrgyz_1 ┆ 5         ┆ 1.544994   ┆ 4.399999    ┆ 2017-04-30    ┆ 2017-05-05   │\n",
      "│            ┆ 5013          ┆           ┆            ┆             ┆ 22:00:00      ┆ 22:00:00     │\n",
      "│ …          ┆ …             ┆ …         ┆ …          ┆ …           ┆ …             ┆ …            │\n",
      "│ tide       ┆ tajikkyrgyz_1 ┆ 6         ┆ 0.664983   ┆ 0.43        ┆ 2022-12-20    ┆ 2022-12-26   │\n",
      "│            ┆ 5013          ┆           ┆            ┆             ┆ 23:00:00      ┆ 23:00:00     │\n",
      "│ tide       ┆ tajikkyrgyz_1 ┆ 7         ┆ 0.585411   ┆ 0.44        ┆ 2022-12-20    ┆ 2022-12-27   │\n",
      "│            ┆ 5013          ┆           ┆            ┆             ┆ 23:00:00      ┆ 23:00:00     │\n",
      "│ tide       ┆ tajikkyrgyz_1 ┆ 8         ┆ 0.66706    ┆ 0.45        ┆ 2022-12-20    ┆ 2022-12-28   │\n",
      "│            ┆ 5013          ┆           ┆            ┆             ┆ 23:00:00      ┆ 23:00:00     │\n",
      "│ tide       ┆ tajikkyrgyz_1 ┆ 9         ┆ 0.574035   ┆ 0.45        ┆ 2022-12-20    ┆ 2022-12-29   │\n",
      "│            ┆ 5013          ┆           ┆            ┆             ┆ 23:00:00      ┆ 23:00:00     │\n",
      "│ tide       ┆ tajikkyrgyz_1 ┆ 10        ┆ 0.548367   ┆ 0.46        ┆ 2022-12-20    ┆ 2022-12-30   │\n",
      "│            ┆ 5013          ┆           ┆            ┆             ┆ 23:00:00      ┆ 23:00:00     │\n",
      "└────────────┴───────────────┴───────────┴────────────┴─────────────┴───────────────┴──────────────┘\n"
     ]
    }
   ],
   "source": [
    "print(results.filter(model_name=\"tide\", basin_id=\"tajikkyrgyz_15013\").collect())"
   ]
  },
  {
   "cell_type": "code",
   "execution_count": 12,
   "id": "97b21144",
   "metadata": {},
   "outputs": [
    {
     "data": {
      "text/plain": [
       "transfer_learning_publication.transforms.composite.CompositePipeline"
      ]
     },
     "execution_count": 12,
     "metadata": {},
     "output_type": "execute_result"
    }
   ],
   "source": [
    "type(datamodule._pipeline)"
   ]
  },
  {
   "cell_type": "code",
   "execution_count": 13,
   "id": "f61a762b",
   "metadata": {},
   "outputs": [
    {
     "data": {
      "text/plain": [
       "['temperature_2m_max',\n",
       " 'temperature_2m_min',\n",
       " 'potential_evaporation_sum_FAO_PENMAN_MONTEITH',\n",
       " 'potential_evaporation_sum_ERA5_LAND',\n",
       " 'temperature_2m_mean',\n",
       " 'total_precipitation_sum',\n",
       " 'streamflow',\n",
       " 'streamflow_was_filled',\n",
       " 'sin_day_of_year',\n",
       " 'cos_day_of_year']"
      ]
     },
     "execution_count": 13,
     "metadata": {},
     "output_type": "execute_result"
    }
   ],
   "source": [
    "datamodule.config[\"features\"][\"forcing\"]"
   ]
  },
  {
   "cell_type": "code",
   "execution_count": 16,
   "id": "3fd8fe1d",
   "metadata": {},
   "outputs": [
    {
     "data": {
      "text/plain": [
       "0.001"
      ]
     },
     "execution_count": 16,
     "metadata": {},
     "output_type": "execute_result"
    }
   ],
   "source": [
    "model.config.learning_rate"
   ]
  },
  {
   "cell_type": "code",
   "execution_count": 17,
   "id": "b8560e95",
   "metadata": {},
   "outputs": [
    {
     "ename": "TypeError",
     "evalue": "The classmethod `LitTiDE.load_from_checkpoint` cannot be called on an instance. Please call it on the class type and make sure the return value is used.",
     "output_type": "error",
     "traceback": [
      "\u001b[31m---------------------------------------------------------------------------\u001b[39m",
      "\u001b[31mTypeError\u001b[39m                                 Traceback (most recent call last)",
      "\u001b[36mCell\u001b[39m\u001b[36m \u001b[39m\u001b[32mIn[17]\u001b[39m\u001b[32m, line 1\u001b[39m\n\u001b[32m----> \u001b[39m\u001b[32m1\u001b[39m \u001b[43mmodel\u001b[49m\u001b[43m.\u001b[49m\u001b[43mload_from_checkpoint\u001b[49m\u001b[43m(\u001b[49m\u001b[33;43m\"\u001b[39;49m\u001b[33;43m/Users/cooper/Desktop/transfer-learning-publication/checkpoints/training/model_name=tide/run_2025-09-11_seed43/checkpoints/best_val_loss_0.0223.ckpt\u001b[39;49m\u001b[33;43m\"\u001b[39;49m\u001b[43m)\u001b[49m\n",
      "\u001b[36mFile \u001b[39m\u001b[32m~/Desktop/transfer-learning-publication/.venv/lib/python3.12/site-packages/lightning/pytorch/utilities/model_helpers.py:121\u001b[39m, in \u001b[36m_restricted_classmethod_impl.__get__.<locals>.wrapper\u001b[39m\u001b[34m(*args, **kwargs)\u001b[39m\n\u001b[32m    119\u001b[39m is_scripting = \u001b[38;5;28many\u001b[39m(os.path.join(\u001b[33m\"\u001b[39m\u001b[33mtorch\u001b[39m\u001b[33m\"\u001b[39m, \u001b[33m\"\u001b[39m\u001b[33mjit\u001b[39m\u001b[33m\"\u001b[39m) \u001b[38;5;129;01min\u001b[39;00m frameinfo.filename \u001b[38;5;28;01mfor\u001b[39;00m frameinfo \u001b[38;5;129;01min\u001b[39;00m inspect.stack())\n\u001b[32m    120\u001b[39m \u001b[38;5;28;01mif\u001b[39;00m instance \u001b[38;5;129;01mis\u001b[39;00m \u001b[38;5;129;01mnot\u001b[39;00m \u001b[38;5;28;01mNone\u001b[39;00m \u001b[38;5;129;01mand\u001b[39;00m \u001b[38;5;129;01mnot\u001b[39;00m is_scripting:\n\u001b[32m--> \u001b[39m\u001b[32m121\u001b[39m     \u001b[38;5;28;01mraise\u001b[39;00m \u001b[38;5;167;01mTypeError\u001b[39;00m(\n\u001b[32m    122\u001b[39m         \u001b[33mf\u001b[39m\u001b[33m\"\u001b[39m\u001b[33mThe classmethod `\u001b[39m\u001b[38;5;132;01m{\u001b[39;00m\u001b[38;5;28mcls\u001b[39m.\u001b[34m__name__\u001b[39m\u001b[38;5;132;01m}\u001b[39;00m\u001b[33m.\u001b[39m\u001b[38;5;132;01m{\u001b[39;00m\u001b[38;5;28mself\u001b[39m.method.\u001b[34m__name__\u001b[39m\u001b[38;5;132;01m}\u001b[39;00m\u001b[33m` cannot be called on an instance.\u001b[39m\u001b[33m\"\u001b[39m\n\u001b[32m    123\u001b[39m         \u001b[33m\"\u001b[39m\u001b[33m Please call it on the class type and make sure the return value is used.\u001b[39m\u001b[33m\"\u001b[39m\n\u001b[32m    124\u001b[39m     )\n\u001b[32m    125\u001b[39m \u001b[38;5;28;01mreturn\u001b[39;00m \u001b[38;5;28mself\u001b[39m.method(\u001b[38;5;28mcls\u001b[39m, *args, **kwargs)\n",
      "\u001b[31mTypeError\u001b[39m: The classmethod `LitTiDE.load_from_checkpoint` cannot be called on an instance. Please call it on the class type and make sure the return value is used."
     ]
    }
   ],
   "source": [
    "model.load_from_checkpoint(\"/Users/cooper/Desktop/transfer-learning-publication/checkpoints/training/model_name=tide/run_2025-09-11_seed43/checkpoints/best_val_loss_0.0223.ckpt\")"
   ]
  },
  {
   "cell_type": "code",
   "execution_count": null,
   "id": "ef934a2d",
   "metadata": {},
   "outputs": [],
   "source": []
  }
 ],
 "metadata": {
  "kernelspec": {
   "display_name": "transfer-learning-publication",
   "language": "python",
   "name": "python3"
  },
  "language_info": {
   "codemirror_mode": {
    "name": "ipython",
    "version": 3
   },
   "file_extension": ".py",
   "mimetype": "text/x-python",
   "name": "python",
   "nbconvert_exporter": "python",
   "pygments_lexer": "ipython3",
   "version": "3.12.8"
  }
 },
 "nbformat": 4,
 "nbformat_minor": 5
}
