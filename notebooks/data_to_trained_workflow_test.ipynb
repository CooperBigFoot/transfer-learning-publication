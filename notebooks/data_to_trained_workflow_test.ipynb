{
 "cells": [
  {
   "cell_type": "code",
   "execution_count": 1,
   "id": "456502af",
   "metadata": {},
   "outputs": [],
   "source": [
    "from transfer_learning_publication.models import ModelFactory\n",
    "from transfer_learning_publication.data import CaravanDataSource, LSHDataModule\n",
    "from transfer_learning_publication.transforms import PipelineBuilder, Log, ZScore\n",
    "from transfer_learning_publication.models import ModelFactory, ModelEvaluator\n",
    "from transfer_learning_publication.models.tide import LitTiDE\n",
    "from transfer_learning_publication.callbacks import HFUploadCallback\n",
    "import lightning as pl\n",
    "from litmodels.integrations import LightningModelCheckpoint\n",
    "import torch\n",
    "from lightning.pytorch.callbacks import ModelCheckpoint, EarlyStopping, Callback, LearningRateMonitor, RichProgressBar\n",
    "import matplotlib.pyplot as plt\n",
    "import joblib\n",
    "import os\n",
    "from huggingface_hub import upload_file"
   ]
  },
  {
   "cell_type": "markdown",
   "id": "6ab7e6b4",
   "metadata": {},
   "source": [
    "## Transform data and sink to disk"
   ]
  },
  {
   "cell_type": "code",
   "execution_count": 2,
   "id": "471efee7",
   "metadata": {},
   "outputs": [],
   "source": [
    "ts_features = [\"temperature_2m_max\",\n",
    "            \"temperature_2m_min\",\n",
    "            \"potential_evaporation_sum_FAO_PENMAN_MONTEITH\",\n",
    "            \"potential_evaporation_sum_ERA5_LAND\",\n",
    "            \"temperature_2m_mean\",\n",
    "            \"total_precipitation_sum\",\n",
    "            \"streamflow\",\n",
    "            \"streamflow_was_filled\",\n",
    "            \"sin_day_of_year\",\n",
    "            \"cos_day_of_year\"]\n",
    "\n",
    "static_features = [\"p_mean\",\n",
    "            \"area\",\n",
    "            \"ele_mt_sav\",\n",
    "            \"high_prec_dur\",\n",
    "            \"frac_snow\",\n",
    "            \"high_prec_freq\",\n",
    "            \"slp_dg_sav\",\n",
    "            \"cly_pc_sav\",\n",
    "            \"aridity_ERA5_LAND\",\n",
    "            \"aridity_FAO_PM\",]\n",
    "\n",
    "stages = [\"train\", \"val\", \"test\"]"
   ]
  },
  {
   "cell_type": "code",
   "execution_count": 3,
   "id": "0a04b2fa",
   "metadata": {},
   "outputs": [],
   "source": [
    "# ts_preprocessing_pipelines = (\n",
    "#     PipelineBuilder(group_identifier=\"gauge_id\")\n",
    "#     .add_per_basin(Log(), columns=[\"streamflow\"])\n",
    "#     .add_global(ZScore(), columns=[\"temperature_2m_max\",\n",
    "#             \"temperature_2m_min\",\n",
    "#             \"potential_evaporation_sum_FAO_PENMAN_MONTEITH\",\n",
    "#             \"potential_evaporation_sum_ERA5_LAND\",\n",
    "#             \"temperature_2m_mean\",\n",
    "#             \"total_precipitation_sum\",\n",
    "#             \"streamflow\"])\n",
    "#     .build()\n",
    "# )\n",
    "\n",
    "# static_preprocessing_pipelines = (\n",
    "#     PipelineBuilder(group_identifier=\"gauge_id\")\n",
    "#     .add_global(ZScore(), columns=static_features)\n",
    "#     .build()\n",
    "# )\n",
    "\n",
    "# for stage in stages:\n",
    "#     caravan = CaravanDataSource(f\"/Users/cooper/Desktop/CARAVAN_CLEAN/{stage}\", region=\"tajikkyrgyz\")\n",
    "#     gauge_ids = caravan.list_gauge_ids()\n",
    "#     ts_data = caravan.get_timeseries(\n",
    "#         gauge_ids[:3], \n",
    "#         columns=ts_features\n",
    "#     )\n",
    "#     static_data = caravan.get_static_attributes(\n",
    "#         gauge_ids[:3], \n",
    "#         columns=static_features\n",
    "#     )\n",
    "\n",
    "#     if stage == \"train\":\n",
    "#         ts_transformed = ts_preprocessing_pipelines.fit_transform(ts_data.collect())\n",
    "#         static_transformed = static_preprocessing_pipelines.fit_transform(static_data.collect())\n",
    "#     else:\n",
    "#         ts_transformed = ts_preprocessing_pipelines.transform(ts_data.collect())\n",
    "#         static_transformed = static_preprocessing_pipelines.transform(static_data.collect())\n",
    "\n",
    "#     caravan.write_timeseries(ts_transformed, f\"/Users/cooper/Desktop/first-test/{stage}\", overwrite=False)\n",
    "#     caravan.write_static_attributes(static_transformed, f\"/Users/cooper/Desktop/first-test/{stage}\", overwrite=False)\n",
    "\n",
    "#     print(f\"Completed {stage} stage\")"
   ]
  },
  {
   "cell_type": "code",
   "execution_count": 4,
   "id": "577e9c72",
   "metadata": {},
   "outputs": [],
   "source": [
    "# # Dump the fitted pipelines\n",
    "# joblib.dump(ts_preprocessing_pipelines, \"/Users/cooper/Desktop/first-test/ts_pipeline.joblib\")\n",
    "# joblib.dump(static_preprocessing_pipelines, \"/Users/cooper/Desktop/first-test/static_pipeline.joblib\")"
   ]
  },
  {
   "cell_type": "markdown",
   "id": "ec476f67",
   "metadata": {},
   "source": [
    "## Create datamodule and instantiate model for training"
   ]
  },
  {
   "cell_type": "code",
   "execution_count": 5,
   "id": "964e2617",
   "metadata": {},
   "outputs": [],
   "source": [
    "config_path = \"/Users/cooper/Desktop/transfer-learning-publication/configs/first_run.yaml\""
   ]
  },
  {
   "cell_type": "code",
   "execution_count": 6,
   "id": "309f2506",
   "metadata": {},
   "outputs": [],
   "source": [
    "datamodule = LSHDataModule(config_path=config_path)\n",
    "\n",
    "model_factory = ModelFactory()\n",
    "model = model_factory.create_from_config(config_path=config_path)"
   ]
  },
  {
   "cell_type": "code",
   "execution_count": null,
   "id": "6a9f4734",
   "metadata": {},
   "outputs": [
    {
     "name": "stderr",
     "output_type": "stream",
     "text": [
      "GPU available: True (mps), used: True\n",
      "TPU available: False, using: 0 TPU cores\n",
      "HPU available: False, using: 0 HPUs\n",
      "/Users/cooper/Desktop/transfer-learning-publication/.venv/lib/python3.12/site-packages/lightning/pytorch/trainer/connectors/logger_connector/logger_connector.py:76: Starting from v1.9.0, `tensorboardX` has been removed as a dependency of the `lightning.pytorch` package, due to potential conflicts with other packages in the ML ecosystem. For this reason, `logger=True` will use `CSVLogger` as the default logger, unless the `tensorboard` or `tensorboardX` packages are found. Please `pip install lightning[extra]` or one of them to enable TensorBoard support by default\n",
      "/Users/cooper/Desktop/transfer-learning-publication/.venv/lib/python3.12/site-packages/lightning/pytorch/callbacks/model_checkpoint.py:751: Checkpoint directory /Users/cooper/Desktop/transfer-learning-publication/notebooks/checkpoints exists and is not empty.\n"
     ]
    },
    {
     "data": {
      "text/html": [
       "<pre style=\"white-space:pre;overflow-x:auto;line-height:normal;font-family:Menlo,'DejaVu Sans Mono',consolas,'Courier New',monospace\">┏━━━┳━━━━━━━━━━━┳━━━━━━━━━━━┳━━━━━━━━┳━━━━━━━┓\n",
       "┃<span style=\"color: #800080; text-decoration-color: #800080; font-weight: bold\">   </span>┃<span style=\"color: #800080; text-decoration-color: #800080; font-weight: bold\"> Name      </span>┃<span style=\"color: #800080; text-decoration-color: #800080; font-weight: bold\"> Type      </span>┃<span style=\"color: #800080; text-decoration-color: #800080; font-weight: bold\"> Params </span>┃<span style=\"color: #800080; text-decoration-color: #800080; font-weight: bold\"> Mode  </span>┃\n",
       "┡━━━╇━━━━━━━━━━━╇━━━━━━━━━━━╇━━━━━━━━╇━━━━━━━┩\n",
       "│<span style=\"color: #7f7f7f; text-decoration-color: #7f7f7f\"> 0 </span>│ criterion │ MSELoss   │      0 │ train │\n",
       "│<span style=\"color: #7f7f7f; text-decoration-color: #7f7f7f\"> 1 </span>│ rev_in    │ RevIN     │      2 │ train │\n",
       "│<span style=\"color: #7f7f7f; text-decoration-color: #7f7f7f\"> 2 </span>│ model     │ TiDEModel │  178 K │ train │\n",
       "└───┴───────────┴───────────┴────────┴───────┘\n",
       "</pre>\n"
      ],
      "text/plain": [
       "┏━━━┳━━━━━━━━━━━┳━━━━━━━━━━━┳━━━━━━━━┳━━━━━━━┓\n",
       "┃\u001b[1;35m \u001b[0m\u001b[1;35m \u001b[0m\u001b[1;35m \u001b[0m┃\u001b[1;35m \u001b[0m\u001b[1;35mName     \u001b[0m\u001b[1;35m \u001b[0m┃\u001b[1;35m \u001b[0m\u001b[1;35mType     \u001b[0m\u001b[1;35m \u001b[0m┃\u001b[1;35m \u001b[0m\u001b[1;35mParams\u001b[0m\u001b[1;35m \u001b[0m┃\u001b[1;35m \u001b[0m\u001b[1;35mMode \u001b[0m\u001b[1;35m \u001b[0m┃\n",
       "┡━━━╇━━━━━━━━━━━╇━━━━━━━━━━━╇━━━━━━━━╇━━━━━━━┩\n",
       "│\u001b[2m \u001b[0m\u001b[2m0\u001b[0m\u001b[2m \u001b[0m│ criterion │ MSELoss   │      0 │ train │\n",
       "│\u001b[2m \u001b[0m\u001b[2m1\u001b[0m\u001b[2m \u001b[0m│ rev_in    │ RevIN     │      2 │ train │\n",
       "│\u001b[2m \u001b[0m\u001b[2m2\u001b[0m\u001b[2m \u001b[0m│ model     │ TiDEModel │  178 K │ train │\n",
       "└───┴───────────┴───────────┴────────┴───────┘\n"
      ]
     },
     "metadata": {},
     "output_type": "display_data"
    },
    {
     "data": {
      "text/html": [
       "<pre style=\"white-space:pre;overflow-x:auto;line-height:normal;font-family:Menlo,'DejaVu Sans Mono',consolas,'Courier New',monospace\"><span style=\"font-weight: bold\">Trainable params</span>: 178 K                                                                                            \n",
       "<span style=\"font-weight: bold\">Non-trainable params</span>: 0                                                                                            \n",
       "<span style=\"font-weight: bold\">Total params</span>: 178 K                                                                                                \n",
       "<span style=\"font-weight: bold\">Total estimated model params size (MB)</span>: 0                                                                          \n",
       "<span style=\"font-weight: bold\">Modules in train mode</span>: 27                                                                                          \n",
       "<span style=\"font-weight: bold\">Modules in eval mode</span>: 0                                                                                            \n",
       "</pre>\n"
      ],
      "text/plain": [
       "\u001b[1mTrainable params\u001b[0m: 178 K                                                                                            \n",
       "\u001b[1mNon-trainable params\u001b[0m: 0                                                                                            \n",
       "\u001b[1mTotal params\u001b[0m: 178 K                                                                                                \n",
       "\u001b[1mTotal estimated model params size (MB)\u001b[0m: 0                                                                          \n",
       "\u001b[1mModules in train mode\u001b[0m: 27                                                                                          \n",
       "\u001b[1mModules in eval mode\u001b[0m: 0                                                                                            \n"
      ]
     },
     "metadata": {},
     "output_type": "display_data"
    },
    {
     "data": {
      "application/vnd.jupyter.widget-view+json": {
       "model_id": "5ae32a045caf405894ef96cd0ffe0c2f",
       "version_major": 2,
       "version_minor": 0
      },
      "text/plain": [
       "Output()"
      ]
     },
     "metadata": {},
     "output_type": "display_data"
    },
    {
     "data": {
      "text/html": [
       "<pre style=\"white-space:pre;overflow-x:auto;line-height:normal;font-family:Menlo,'DejaVu Sans Mono',consolas,'Courier New',monospace\">/Users/cooper/Desktop/transfer-learning-publication/.venv/lib/python3.12/site-packages/lightning/pytorch/trainer/co\n",
       "nnectors/data_connector.py:433: The 'val_dataloader' does not have many workers which may be a bottleneck. Consider\n",
       "increasing the value of the `num_workers` argument` to `num_workers=9` in the `DataLoader` to improve performance.\n",
       "</pre>\n"
      ],
      "text/plain": [
       "/Users/cooper/Desktop/transfer-learning-publication/.venv/lib/python3.12/site-packages/lightning/pytorch/trainer/co\n",
       "nnectors/data_connector.py:433: The 'val_dataloader' does not have many workers which may be a bottleneck. Consider\n",
       "increasing the value of the `num_workers` argument` to `num_workers=9` in the `DataLoader` to improve performance.\n"
      ]
     },
     "metadata": {},
     "output_type": "display_data"
    },
    {
     "data": {
      "text/html": [
       "<pre style=\"white-space:pre;overflow-x:auto;line-height:normal;font-family:Menlo,'DejaVu Sans Mono',consolas,'Courier New',monospace\">/Users/cooper/Desktop/transfer-learning-publication/.venv/lib/python3.12/site-packages/lightning/pytorch/trainer/co\n",
       "nnectors/data_connector.py:433: The 'train_dataloader' does not have many workers which may be a bottleneck. \n",
       "Consider increasing the value of the `num_workers` argument` to `num_workers=9` in the `DataLoader` to improve \n",
       "performance.\n",
       "</pre>\n"
      ],
      "text/plain": [
       "/Users/cooper/Desktop/transfer-learning-publication/.venv/lib/python3.12/site-packages/lightning/pytorch/trainer/co\n",
       "nnectors/data_connector.py:433: The 'train_dataloader' does not have many workers which may be a bottleneck. \n",
       "Consider increasing the value of the `num_workers` argument` to `num_workers=9` in the `DataLoader` to improve \n",
       "performance.\n"
      ]
     },
     "metadata": {},
     "output_type": "display_data"
    },
    {
     "name": "stderr",
     "output_type": "stream",
     "text": [
      "Metric val_loss improved. New best score: 0.042\n"
     ]
    },
    {
     "data": {
      "application/vnd.jupyter.widget-view+json": {
       "model_id": "db7a9d459c784e13bbc63372fd1d9cf7",
       "version_major": 2,
       "version_minor": 0
      },
      "text/plain": [
       "best-epoch=00-val_loss=0.04.ckpt:   0%|          | 0.00/2.18M [00:00<?, ?B/s]"
      ]
     },
     "metadata": {},
     "output_type": "display_data"
    },
    {
     "name": "stderr",
     "output_type": "stream",
     "text": [
      "Metric val_loss improved by 0.005 >= min_delta = 0.0. New best score: 0.037\n"
     ]
    },
    {
     "data": {
      "application/vnd.jupyter.widget-view+json": {
       "model_id": "cc68504e4fc34df6b8f2903239906f34",
       "version_major": 2,
       "version_minor": 0
      },
      "text/plain": [
       "best-epoch=01-val_loss=0.04.ckpt:   0%|          | 0.00/2.18M [00:00<?, ?B/s]"
      ]
     },
     "metadata": {},
     "output_type": "display_data"
    },
    {
     "name": "stderr",
     "output_type": "stream",
     "text": [
      "Metric val_loss improved by 0.003 >= min_delta = 0.0. New best score: 0.034\n"
     ]
    },
    {
     "data": {
      "application/vnd.jupyter.widget-view+json": {
       "model_id": "d31faeb9e4ae49539f073cca0d82e40f",
       "version_major": 2,
       "version_minor": 0
      },
      "text/plain": [
       "best-epoch=02-val_loss=0.03.ckpt:   0%|          | 0.00/2.18M [00:00<?, ?B/s]"
      ]
     },
     "metadata": {},
     "output_type": "display_data"
    },
    {
     "name": "stderr",
     "output_type": "stream",
     "text": [
      "Metric val_loss improved by 0.003 >= min_delta = 0.0. New best score: 0.032\n"
     ]
    },
    {
     "data": {
      "application/vnd.jupyter.widget-view+json": {
       "model_id": "a51f73444e0143c1b2c034adf7a19f53",
       "version_major": 2,
       "version_minor": 0
      },
      "text/plain": [
       "best-epoch=03-val_loss=0.03.ckpt:   0%|          | 0.00/2.18M [00:00<?, ?B/s]"
      ]
     },
     "metadata": {},
     "output_type": "display_data"
    },
    {
     "name": "stderr",
     "output_type": "stream",
     "text": [
      "Metric val_loss improved by 0.002 >= min_delta = 0.0. New best score: 0.030\n",
      "`Trainer.fit` stopped: `max_epochs=5` reached.\n"
     ]
    },
    {
     "data": {
      "application/vnd.jupyter.widget-view+json": {
       "model_id": "c3a90b3575c4414f8af1d47e16ba285a",
       "version_major": 2,
       "version_minor": 0
      },
      "text/plain": [
       "best-epoch=04-val_loss=0.03-v2.ckpt:   0%|          | 0.00/2.18M [00:00<?, ?B/s]"
      ]
     },
     "metadata": {},
     "output_type": "display_data"
    },
    {
     "data": {
      "text/html": [
       "<pre style=\"white-space:pre;overflow-x:auto;line-height:normal;font-family:Menlo,'DejaVu Sans Mono',consolas,'Courier New',monospace\"></pre>\n"
      ],
      "text/plain": []
     },
     "metadata": {},
     "output_type": "display_data"
    }
   ],
   "source": [
    "trainer = pl.Trainer(\n",
    "    max_epochs=5,\n",
    "    accelerator=\"auto\",\n",
    "    devices=1,\n",
    "    logger=True,\n",
    "    callbacks=[\n",
    "        ModelCheckpoint(\n",
    "            monitor=\"val_loss\", \n",
    "            mode=\"min\", \n",
    "            save_top_k=1,\n",
    "            dirpath=\"checkpoints\",\n",
    "            filename=\"best-{epoch:02d}-{val_loss:.2f}\"\n",
    "        ),\n",
    "        HFUploadCallback(\n",
    "            repo_id=\"CooperBigFoot/test-repo\",\n",
    "            repo_type=\"model\",\n",
    "            path_in_repo=\"checkpoints/{filename}\",\n",
    "            private=False\n",
    "        ),\n",
    "        EarlyStopping(\n",
    "            monitor=\"val_loss\", \n",
    "            mode=\"min\", \n",
    "            patience=5, \n",
    "            verbose=True\n",
    "        ),\n",
    "        RichProgressBar() \n",
    "    ],\n",
    "    enable_progress_bar=True,\n",
    "    log_every_n_steps=1\n",
    ")\n",
    "\n",
    "trainer.fit(model=model, datamodule=datamodule)"
   ]
  },
  {
   "cell_type": "code",
   "execution_count": 9,
   "id": "5a8334f4",
   "metadata": {},
   "outputs": [
    {
     "name": "stderr",
     "output_type": "stream",
     "text": [
      "💡 Tip: For seamless cloud uploads and versioning, try installing [litmodels](https://pypi.org/project/litmodels/) to enable LitModelCheckpoint, which syncs automatically with the Lightning model registry.\n",
      "GPU available: True (mps), used: False\n",
      "TPU available: False, using: 0 TPU cores\n",
      "HPU available: False, using: 0 HPUs\n",
      "/Users/cooper/Desktop/transfer-learning-publication/.venv/lib/python3.12/site-packages/lightning/pytorch/trainer/setup.py:177: GPU available but not used. You can set it by doing `Trainer(accelerator='gpu')`.\n",
      "/Users/cooper/Desktop/transfer-learning-publication/.venv/lib/python3.12/site-packages/lightning/pytorch/trainer/connectors/data_connector.py:433: The 'test_dataloader' does not have many workers which may be a bottleneck. Consider increasing the value of the `num_workers` argument` to `num_workers=9` in the `DataLoader` to improve performance.\n"
     ]
    },
    {
     "data": {
      "application/vnd.jupyter.widget-view+json": {
       "model_id": "a4117ecb95324923b57ccbb3aac413af",
       "version_major": 2,
       "version_minor": 0
      },
      "text/plain": [
       "Testing: |          | 0/? [00:00<?, ?it/s]"
      ]
     },
     "metadata": {},
     "output_type": "display_data"
    },
    {
     "data": {
      "text/html": [
       "<pre style=\"white-space:pre;overflow-x:auto;line-height:normal;font-family:Menlo,'DejaVu Sans Mono',consolas,'Courier New',monospace\">┏━━━━━━━━━━━━━━━━━━━━━━━━━━━┳━━━━━━━━━━━━━━━━━━━━━━━━━━━┓\n",
       "┃<span style=\"font-weight: bold\">        Test metric        </span>┃<span style=\"font-weight: bold\">       DataLoader 0        </span>┃\n",
       "┡━━━━━━━━━━━━━━━━━━━━━━━━━━━╇━━━━━━━━━━━━━━━━━━━━━━━━━━━┩\n",
       "│<span style=\"color: #008080; text-decoration-color: #008080\">         test_loss         </span>│<span style=\"color: #800080; text-decoration-color: #800080\">    0.03853825479745865    </span>│\n",
       "└───────────────────────────┴───────────────────────────┘\n",
       "</pre>\n"
      ],
      "text/plain": [
       "┏━━━━━━━━━━━━━━━━━━━━━━━━━━━┳━━━━━━━━━━━━━━━━━━━━━━━━━━━┓\n",
       "┃\u001b[1m \u001b[0m\u001b[1m       Test metric       \u001b[0m\u001b[1m \u001b[0m┃\u001b[1m \u001b[0m\u001b[1m      DataLoader 0       \u001b[0m\u001b[1m \u001b[0m┃\n",
       "┡━━━━━━━━━━━━━━━━━━━━━━━━━━━╇━━━━━━━━━━━━━━━━━━━━━━━━━━━┩\n",
       "│\u001b[36m \u001b[0m\u001b[36m        test_loss        \u001b[0m\u001b[36m \u001b[0m│\u001b[35m \u001b[0m\u001b[35m   0.03853825479745865   \u001b[0m\u001b[35m \u001b[0m│\n",
       "└───────────────────────────┴───────────────────────────┘\n"
      ]
     },
     "metadata": {},
     "output_type": "display_data"
    }
   ],
   "source": [
    "models_and_datamodules = {\n",
    "    \"tide\": (model, datamodule),\n",
    "}\n",
    "\n",
    "evaluator = ModelEvaluator(\n",
    "    models_and_datamodules=models_and_datamodules,\n",
    "    trainer_kwargs={\"accelerator\": \"cpu\"}\n",
    ")\n",
    "\n",
    "results = evaluator.test_models(cache_dir=\"/Users/cooper/Desktop/transfer-learning-publication/data/cache/first_run/\", force_recompute=True)"
   ]
  },
  {
   "cell_type": "code",
   "execution_count": 10,
   "id": "9a10550b",
   "metadata": {},
   "outputs": [
    {
     "name": "stdout",
     "output_type": "stream",
     "text": [
      "shape: (1, 5)\n",
      "┌────────────┬───────────┬──────────┬───────────────┬───────────┐\n",
      "│ model_name ┆ n_samples ┆ n_basins ┆ output_length ┆ has_dates │\n",
      "│ ---        ┆ ---       ┆ ---      ┆ ---           ┆ ---       │\n",
      "│ str        ┆ i64       ┆ i64      ┆ i64           ┆ bool      │\n",
      "╞════════════╪═══════════╪══════════╪═══════════════╪═══════════╡\n",
      "│ tide       ┆ 6146      ┆ 3        ┆ 10            ┆ true      │\n",
      "└────────────┴───────────┴──────────┴───────────────┴───────────┘\n"
     ]
    }
   ],
   "source": [
    "print(results.summary())"
   ]
  },
  {
   "cell_type": "code",
   "execution_count": 11,
   "id": "3387be0e",
   "metadata": {},
   "outputs": [
    {
     "name": "stdout",
     "output_type": "stream",
     "text": [
      "shape: (10, 7)\n",
      "┌────────────┬───────────────┬───────────┬────────────┬─────────────┬───────────────┬──────────────┐\n",
      "│ model_name ┆ group_identif ┆ lead_time ┆ prediction ┆ observation ┆ issue_date    ┆ prediction_d │\n",
      "│ ---        ┆ ier           ┆ ---       ┆ ---        ┆ ---         ┆ ---           ┆ ate          │\n",
      "│ str        ┆ ---           ┆ i64       ┆ f64        ┆ f64         ┆ datetime[μs]  ┆ ---          │\n",
      "│            ┆ str           ┆           ┆            ┆             ┆               ┆ datetime[μs] │\n",
      "╞════════════╪═══════════════╪═══════════╪════════════╪═════════════╪═══════════════╪══════════════╡\n",
      "│ tide       ┆ tajikkyrgyz_1 ┆ 1         ┆ 0.629267   ┆ 0.546317    ┆ 2017-04-30    ┆ 2017-05-01   │\n",
      "│            ┆ 5013          ┆           ┆            ┆             ┆ 22:00:00      ┆ 22:00:00     │\n",
      "│ tide       ┆ tajikkyrgyz_1 ┆ 2         ┆ 0.618158   ┆ 0.537825    ┆ 2017-04-30    ┆ 2017-05-02   │\n",
      "│            ┆ 5013          ┆           ┆            ┆             ┆ 22:00:00      ┆ 22:00:00     │\n",
      "│ tide       ┆ tajikkyrgyz_1 ┆ 3         ┆ 0.546843   ┆ 0.546317    ┆ 2017-04-30    ┆ 2017-05-03   │\n",
      "│            ┆ 5013          ┆           ┆            ┆             ┆ 22:00:00      ┆ 22:00:00     │\n",
      "│ tide       ┆ tajikkyrgyz_1 ┆ 4         ┆ 0.569898   ┆ 0.586322    ┆ 2017-04-30    ┆ 2017-05-04   │\n",
      "│            ┆ 5013          ┆           ┆            ┆             ┆ 22:00:00      ┆ 22:00:00     │\n",
      "│ tide       ┆ tajikkyrgyz_1 ┆ 5         ┆ 0.56898    ┆ 0.602654    ┆ 2017-04-30    ┆ 2017-05-05   │\n",
      "│            ┆ 5013          ┆           ┆            ┆             ┆ 22:00:00      ┆ 22:00:00     │\n",
      "│ tide       ┆ tajikkyrgyz_1 ┆ 6         ┆ 0.589365   ┆ 0.611263    ┆ 2017-04-30    ┆ 2017-05-06   │\n",
      "│            ┆ 5013          ┆           ┆            ┆             ┆ 22:00:00      ┆ 22:00:00     │\n",
      "│ tide       ┆ tajikkyrgyz_1 ┆ 7         ┆ 0.600457   ┆ 0.631455    ┆ 2017-04-30    ┆ 2017-05-07   │\n",
      "│            ┆ 5013          ┆           ┆            ┆             ┆ 22:00:00      ┆ 22:00:00     │\n",
      "│ tide       ┆ tajikkyrgyz_1 ┆ 8         ┆ 0.621479   ┆ 0.671013    ┆ 2017-04-30    ┆ 2017-05-08   │\n",
      "│            ┆ 5013          ┆           ┆            ┆             ┆ 22:00:00      ┆ 22:00:00     │\n",
      "│ tide       ┆ tajikkyrgyz_1 ┆ 9         ┆ 0.602598   ┆ 0.691414    ┆ 2017-04-30    ┆ 2017-05-09   │\n",
      "│            ┆ 5013          ┆           ┆            ┆             ┆ 22:00:00      ┆ 22:00:00     │\n",
      "│ tide       ┆ tajikkyrgyz_1 ┆ 10        ┆ 0.652957   ┆ 0.665588    ┆ 2017-04-30    ┆ 2017-05-10   │\n",
      "│            ┆ 5013          ┆           ┆            ┆             ┆ 22:00:00      ┆ 22:00:00     │\n",
      "└────────────┴───────────────┴───────────┴────────────┴─────────────┴───────────────┴──────────────┘\n"
     ]
    }
   ],
   "source": [
    "print(results.raw_data.head(10))"
   ]
  },
  {
   "cell_type": "code",
   "execution_count": null,
   "id": "bcdfe4fc",
   "metadata": {},
   "outputs": [],
   "source": []
  }
 ],
 "metadata": {
  "kernelspec": {
   "display_name": "transfer-learning-publication",
   "language": "python",
   "name": "python3"
  },
  "language_info": {
   "codemirror_mode": {
    "name": "ipython",
    "version": 3
   },
   "file_extension": ".py",
   "mimetype": "text/x-python",
   "name": "python",
   "nbconvert_exporter": "python",
   "pygments_lexer": "ipython3",
   "version": "3.12.8"
  }
 },
 "nbformat": 4,
 "nbformat_minor": 5
}
