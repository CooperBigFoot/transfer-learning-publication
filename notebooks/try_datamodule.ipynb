{
 "cells": [
  {
   "cell_type": "code",
   "execution_count": null,
   "id": "40593182",
   "metadata": {},
   "outputs": [],
   "source": [
    "from transfer_learning_publication.data import LSHDataModule"
   ]
  },
  {
   "cell_type": "code",
   "execution_count": null,
   "id": "de6dnnzsiho",
   "metadata": {},
   "outputs": [],
   "source": [
    "datamodule = LSHDataModule(\n",
    "    config_path=\"/Users/cooper/Desktop/transfer-learning-publication/configs/datamodule_example.yaml\",\n",
    ")\n",
    "\n",
    "# Try to setup which was failing before\n",
    "datamodule.setup()\n",
    "\n",
    "print(\"✓ DataModule setup successful!\")\n",
    "print(f\"Training dataset: {len(datamodule.train_dataset)} sequences\")\n",
    "print(f\"Validation dataset: {len(datamodule.val_dataset)} sequences\")"
   ]
  },
  {
   "cell_type": "code",
   "execution_count": null,
   "id": "0831ded3",
   "metadata": {},
   "outputs": [],
   "source": []
  }
 ],
 "metadata": {
  "kernelspec": {
   "display_name": "Python (transfer-learning-publication)",
   "language": "python",
   "name": "transfer-learning-publication"
  },
  "language_info": {
   "codemirror_mode": {
    "name": "ipython",
    "version": 3
   },
   "file_extension": ".py",
   "mimetype": "text/x-python",
   "name": "python",
   "nbconvert_exporter": "python",
   "pygments_lexer": "ipython3",
   "version": "3.12.8"
  }
 },
 "nbformat": 4,
 "nbformat_minor": 5
}
