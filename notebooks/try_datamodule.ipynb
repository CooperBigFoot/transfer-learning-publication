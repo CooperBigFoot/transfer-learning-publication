{
 "cells": [
  {
   "cell_type": "code",
   "execution_count": 1,
   "id": "40593182",
   "metadata": {},
   "outputs": [],
   "source": [
    "from transfer_learning_publication.data import LSHDataModule"
   ]
  },
  {
   "cell_type": "code",
   "execution_count": null,
   "id": "17fe3d31",
   "metadata": {},
   "outputs": [
    {
     "ename": "FileNotFoundError",
     "evalue": "Configuration file not found: configs/datamodule_example.yaml",
     "output_type": "error",
     "traceback": [
      "\u001b[31m---------------------------------------------------------------------------\u001b[39m",
      "\u001b[31mFileNotFoundError\u001b[39m                         Traceback (most recent call last)",
      "\u001b[36mCell\u001b[39m\u001b[36m \u001b[39m\u001b[32mIn[2]\u001b[39m\u001b[32m, line 1\u001b[39m\n\u001b[32m----> \u001b[39m\u001b[32m1\u001b[39m datamodule = \u001b[43mLSHDataModule\u001b[49m\u001b[43m(\u001b[49m\n\u001b[32m      2\u001b[39m \u001b[43m    \u001b[49m\u001b[43mconfig_path\u001b[49m\u001b[43m=\u001b[49m\u001b[33;43m\"\u001b[39;49m\u001b[33;43mconfigs/datamodule_example.yaml\u001b[39;49m\u001b[33;43m\"\u001b[39;49m\u001b[43m,\u001b[49m\n\u001b[32m      3\u001b[39m \u001b[43m)\u001b[49m\n",
      "\u001b[36mFile \u001b[39m\u001b[32m~/Desktop/transfer-learning-publication/src/transfer_learning_publication/data/timeseries_datamodule.py:47\u001b[39m, in \u001b[36mLSHDataModule.__init__\u001b[39m\u001b[34m(self, config_path)\u001b[39m\n\u001b[32m     40\u001b[39m \u001b[38;5;250m\u001b[39m\u001b[33;03m\"\"\"\u001b[39;00m\n\u001b[32m     41\u001b[39m \u001b[33;03mInitialize DataModule from configuration file.\u001b[39;00m\n\u001b[32m     42\u001b[39m \n\u001b[32m     43\u001b[39m \u001b[33;03mArgs:\u001b[39;00m\n\u001b[32m     44\u001b[39m \u001b[33;03m    config_path: Path to YAML configuration file\u001b[39;00m\n\u001b[32m     45\u001b[39m \u001b[33;03m\"\"\"\u001b[39;00m\n\u001b[32m     46\u001b[39m \u001b[38;5;28msuper\u001b[39m().\u001b[34m__init__\u001b[39m()\n\u001b[32m---> \u001b[39m\u001b[32m47\u001b[39m \u001b[38;5;28mself\u001b[39m.config = \u001b[38;5;28;43mself\u001b[39;49m\u001b[43m.\u001b[49m\u001b[43m_load_config\u001b[49m\u001b[43m(\u001b[49m\u001b[43mconfig_path\u001b[49m\u001b[43m)\u001b[49m\n\u001b[32m     48\u001b[39m \u001b[38;5;28mself\u001b[39m.config_path = Path(config_path)\n\u001b[32m     50\u001b[39m \u001b[38;5;66;03m# Will be populated in setup()\u001b[39;00m\n",
      "\u001b[36mFile \u001b[39m\u001b[32m~/Desktop/transfer-learning-publication/src/transfer_learning_publication/data/timeseries_datamodule.py:70\u001b[39m, in \u001b[36mLSHDataModule._load_config\u001b[39m\u001b[34m(self, config_path)\u001b[39m\n\u001b[32m     68\u001b[39m config_path = Path(config_path)\n\u001b[32m     69\u001b[39m \u001b[38;5;28;01mif\u001b[39;00m \u001b[38;5;129;01mnot\u001b[39;00m config_path.exists():\n\u001b[32m---> \u001b[39m\u001b[32m70\u001b[39m     \u001b[38;5;28;01mraise\u001b[39;00m \u001b[38;5;167;01mFileNotFoundError\u001b[39;00m(\u001b[33mf\u001b[39m\u001b[33m\"\u001b[39m\u001b[33mConfiguration file not found: \u001b[39m\u001b[38;5;132;01m{\u001b[39;00mconfig_path\u001b[38;5;132;01m}\u001b[39;00m\u001b[33m\"\u001b[39m)\n\u001b[32m     72\u001b[39m \u001b[38;5;28;01mwith\u001b[39;00m \u001b[38;5;28mopen\u001b[39m(config_path) \u001b[38;5;28;01mas\u001b[39;00m f:\n\u001b[32m     73\u001b[39m     config = yaml.safe_load(f)\n",
      "\u001b[31mFileNotFoundError\u001b[39m: Configuration file not found: configs/datamodule_example.yaml"
     ]
    }
   ],
   "source": [
    "datamodule = LSHDataModule(\n",
    "    config_path=\"/Users/cooper/Desktop/transfer-learning-publication/configs/datamodule_example.yaml\",\n",
    ")"
   ]
  },
  {
   "cell_type": "code",
   "execution_count": null,
   "id": "d4e4e666",
   "metadata": {},
   "outputs": [],
   "source": []
  }
 ],
 "metadata": {
  "kernelspec": {
   "display_name": "Python (transfer-learning-publication)",
   "language": "python",
   "name": "transfer-learning-publication"
  },
  "language_info": {
   "codemirror_mode": {
    "name": "ipython",
    "version": 3
   },
   "file_extension": ".py",
   "mimetype": "text/x-python",
   "name": "python",
   "nbconvert_exporter": "python",
   "pygments_lexer": "ipython3",
   "version": "3.12.8"
  }
 },
 "nbformat": 4,
 "nbformat_minor": 5
}
