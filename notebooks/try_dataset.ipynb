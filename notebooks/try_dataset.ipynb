{
 "cells": [
  {
   "cell_type": "code",
   "execution_count": null,
   "id": "beed77e4",
   "metadata": {},
   "outputs": [],
   "source": [
    "from transfer_learning_publication.containers import DatasetConfig"
   ]
  },
  {
   "cell_type": "code",
   "execution_count": null,
   "id": "b0b93f28",
   "metadata": {},
   "outputs": [],
   "source": [
    "config = DatasetConfig(\n",
    "            input_length=10,\n",
    "            output_length=5,\n",
    "            target_name=\"streamflow\",\n",
    "            forcing_features=[\"streamflow\", \"temp\", \"precip\"],\n",
    "            static_features=[\"area\"],\n",
    "            target_idx=0,\n",
    "            forcing_indices=[0, 1, 2],\n",
    "            future_indices=[1, 2], \n",
    "            is_autoregressive=False\n",
    "        )"
   ]
  },
  {
   "cell_type": "code",
   "execution_count": null,
   "id": "79c4a456",
   "metadata": {},
   "outputs": [],
   "source": []
  }
 ],
 "metadata": {
  "kernelspec": {
   "display_name": "transfer-learning-publication",
   "language": "python",
   "name": "python3"
  },
  "language_info": {
   "codemirror_mode": {
    "name": "ipython",
    "version": 3
   },
   "file_extension": ".py",
   "mimetype": "text/x-python",
   "name": "python",
   "nbconvert_exporter": "python",
   "pygments_lexer": "ipython3",
   "version": "3.12.8"
  }
 },
 "nbformat": 4,
 "nbformat_minor": 5
}
