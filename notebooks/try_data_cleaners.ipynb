{
 "cells": [
  {
   "cell_type": "code",
   "execution_count": 1,
   "id": "c7eeca18",
   "metadata": {},
   "outputs": [],
   "source": [
    "from transfer_learning_publication.cleaners import trim_to_column, clip_columns, fill_na_columns\n",
    "import polars as pl\n",
    "import numpy as np\n",
    "from datetime import datetime, timedelta"
   ]
  },
  {
   "cell_type": "code",
   "execution_count": 3,
   "id": "b3695fae",
   "metadata": {},
   "outputs": [
    {
     "name": "stdout",
     "output_type": "stream",
     "text": [
      "\n",
      "📊 Original Data:\n",
      "shape: (15, 4)\n",
      "┌─────────────────────┬─────────────┬───────────────┬────────────┐\n",
      "│ date                ┆ temperature ┆ precipitation ┆ streamflow │\n",
      "│ ---                 ┆ ---         ┆ ---           ┆ ---        │\n",
      "│ datetime[μs]        ┆ f64         ┆ f64           ┆ f64        │\n",
      "╞═════════════════════╪═════════════╪═══════════════╪════════════╡\n",
      "│ 2024-01-01 00:00:00 ┆ null        ┆ 0.0           ┆ null       │\n",
      "│ 2024-01-02 00:00:00 ┆ null        ┆ 0.0           ┆ null       │\n",
      "│ 2024-01-03 00:00:00 ┆ 18.5        ┆ 0.0           ┆ null       │\n",
      "│ 2024-01-04 00:00:00 ┆ 19.2        ┆ 5.2           ┆ null       │\n",
      "│ 2024-01-05 00:00:00 ┆ 20.1        ┆ 3.1           ┆ NaN        │\n",
      "│ …                   ┆ …           ┆ …             ┆ …          │\n",
      "│ 2024-01-11 00:00:00 ┆ 21.5        ┆ 1.5           ┆ 125.4      │\n",
      "│ 2024-01-12 00:00:00 ┆ 20.0        ┆ 3.2           ┆ 118.3      │\n",
      "│ 2024-01-13 00:00:00 ┆ 19.5        ┆ 4.5           ┆ null       │\n",
      "│ 2024-01-14 00:00:00 ┆ 18.0        ┆ 6.0           ┆ NaN        │\n",
      "│ 2024-01-15 00:00:00 ┆ 17.5        ┆ 8.5           ┆ null       │\n",
      "└─────────────────────┴─────────────┴───────────────┴────────────┘\n",
      "\n",
      "📊 Trimmed, Clipped, and Filled Data:\n",
      "shape: (7, 5)\n",
      "┌─────────────────────┬─────────────┬───────────────┬────────────┬───────────────────────┐\n",
      "│ date                ┆ temperature ┆ precipitation ┆ streamflow ┆ streamflow_was_filled │\n",
      "│ ---                 ┆ ---         ┆ ---           ┆ ---        ┆ ---                   │\n",
      "│ datetime[μs]        ┆ f64         ┆ f64           ┆ f64        ┆ u8                    │\n",
      "╞═════════════════════╪═════════════╪═══════════════╪════════════╪═══════════════════════╡\n",
      "│ 2024-01-06 00:00:00 ┆ 130.0       ┆ 0.0           ┆ 130.0      ┆ 0                     │\n",
      "│ 2024-01-07 00:00:00 ┆ 130.0       ┆ 12.5          ┆ 135.2      ┆ 0                     │\n",
      "│ 2024-01-08 00:00:00 ┆ 130.0       ┆ 8.3           ┆ 0.0        ┆ 1                     │\n",
      "│ 2024-01-09 00:00:00 ┆ 130.0       ┆ 2.1           ┆ 140.0      ┆ 0                     │\n",
      "│ 2024-01-10 00:00:00 ┆ 130.0       ┆ 0.0           ┆ 138.6      ┆ 0                     │\n",
      "│ 2024-01-11 00:00:00 ┆ 130.0       ┆ 1.5           ┆ 130.0      ┆ 0                     │\n",
      "│ 2024-01-12 00:00:00 ┆ 130.0       ┆ 3.2           ┆ 130.0      ┆ 0                     │\n",
      "└─────────────────────┴─────────────┴───────────────┴────────────┴───────────────────────┘\n"
     ]
    }
   ],
   "source": [
    "# Create realistic time series data\n",
    "dates = [datetime(2024, 1, 1) + timedelta(days=i) for i in range(15)]\n",
    "\n",
    "time_series_df = pl.LazyFrame({\n",
    "    \"date\": dates,\n",
    "    \"temperature\": [\n",
    "        None, None,  # No temp data at start\n",
    "        18.5, 19.2, 20.1, 21.3, 22.0, 23.5, 24.1, 22.8,\n",
    "        21.5, 20.0, 19.5, 18.0, 17.5\n",
    "    ],\n",
    "    \"precipitation\": [\n",
    "        0.0, 0.0, 0.0,  # Precip data starts earlier\n",
    "        5.2, 3.1, 0.0, 12.5, 8.3, 2.1, 0.0,\n",
    "        1.5, 3.2, 4.5, 6.0, 8.5\n",
    "    ],\n",
    "    \"streamflow\": [\n",
    "        None, None, None, None,  # Streamflow starts late\n",
    "        float('nan'),  # Sensor error\n",
    "        120.5, 135.2, None, 142.3, 138.6, 125.4,\n",
    "        118.3, None, float('nan'),  # Missing data at end\n",
    "        None\n",
    "    ]\n",
    "})\n",
    "\n",
    "print(\"\\n📊 Original Data:\")\n",
    "print(time_series_df.collect())\n",
    "\n",
    "# Apply trimming based on streamflow\n",
    "trimmed_ts = trim_to_column(time_series_df, \"streamflow\")\n",
    "clipped_ts = clip_columns(trimmed_ts, [\"streamflow\", \"temperature\"], min_value=130, max_value=140)\n",
    "filled_ts = fill_na_columns(clipped_ts, [\"streamflow\"], fill_value=0, add_binary_flag=True)\n",
    "\n",
    "print(\"\\n📊 Trimmed, Clipped, and Filled Data:\")\n",
    "print(filled_ts.collect())"
   ]
  },
  {
   "cell_type": "code",
   "execution_count": null,
   "id": "7776e0ae",
   "metadata": {},
   "outputs": [],
   "source": []
  },
  {
   "cell_type": "code",
   "execution_count": null,
   "id": "030fc589",
   "metadata": {},
   "outputs": [],
   "source": []
  }
 ],
 "metadata": {
  "kernelspec": {
   "display_name": "Python (transfer-learning-publication)",
   "language": "python",
   "name": "transfer-learning-publication"
  },
  "language_info": {
   "codemirror_mode": {
    "name": "ipython",
    "version": 3
   },
   "file_extension": ".py",
   "mimetype": "text/x-python",
   "name": "python",
   "nbconvert_exporter": "python",
   "pygments_lexer": "ipython3",
   "version": "3.12.8"
  }
 },
 "nbformat": 4,
 "nbformat_minor": 5
}
