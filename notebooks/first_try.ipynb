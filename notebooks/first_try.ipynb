{
 "cells": [
  {
   "cell_type": "code",
   "execution_count": 1,
   "id": "a6af6e32",
   "metadata": {},
   "outputs": [],
   "source": [
    "from transfer_learning_publication.transforms import PipelineBuilder, ZScore, Log"
   ]
  },
  {
   "cell_type": "code",
   "execution_count": null,
   "id": "eb0d2ae3",
   "metadata": {},
   "outputs": [],
   "source": [
    "preprocessing_pipeline = (\n",
    "    PipelineBuilder(group_identifier=\"basin_id\")\n",
    "    .add_per_basin(Log(), columns=[\"streamflow\"])\n",
    "    .add_global(ZScore(), columns=[\"streamflow\", \"precipitation\"])\n",
    "    .build()\n",
    ")"
   ]
  }
 ],
 "metadata": {
  "kernelspec": {
   "display_name": "Python (transfer-learning-publication)",
   "language": "python",
   "name": "transfer-learning-publication"
  },
  "language_info": {
   "codemirror_mode": {
    "name": "ipython",
    "version": 3
   },
   "file_extension": ".py",
   "mimetype": "text/x-python",
   "name": "python",
   "nbconvert_exporter": "python",
   "pygments_lexer": "ipython3",
   "version": "3.12.8"
  }
 },
 "nbformat": 4,
 "nbformat_minor": 5
}
