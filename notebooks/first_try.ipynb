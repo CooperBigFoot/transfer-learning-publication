{
 "cells": [
  {
   "cell_type": "code",
   "execution_count": 1,
   "id": "a6af6e32",
   "metadata": {},
   "outputs": [],
   "source": [
    "from transfer_learning_publication.data import CaravanDataSource\n",
    "from transfer_learning_publication.transforms import PipelineBuilder, Log, ZScore"
   ]
  },
  {
   "cell_type": "code",
   "execution_count": 2,
   "id": "eb0d2ae3",
   "metadata": {},
   "outputs": [],
   "source": [
    "caravan = CaravanDataSource(\n",
    "    base_path=\"/Users/cooper/Desktop/LSH_hive_data\",\n",
    "    region=\"camels\"\n",
    ")\n",
    "\n",
    "basins = caravan.list_gauge_ids()\n",
    "\n",
    "ts_data = caravan.get_timeseries(\n",
    "    gauge_ids=basins[:2],\n",
    "    variables=[\"streamflow\", \"total_precipitation_sum\"],\n",
    ")"
   ]
  },
  {
   "cell_type": "code",
   "execution_count": 4,
   "id": "96d57330",
   "metadata": {},
   "outputs": [
    {
     "data": {
      "text/plain": [
       "['REGION_NAME', 'gauge_id', 'streamflow', 'total_precipitation_sum', 'date']"
      ]
     },
     "execution_count": 4,
     "metadata": {},
     "output_type": "execute_result"
    }
   ],
   "source": [
    "ts_data.collect_schema().names()"
   ]
  },
  {
   "cell_type": "code",
   "execution_count": null,
   "id": "6b961653",
   "metadata": {},
   "outputs": [],
   "source": [
    "preprocessing_pipelines = (\n",
    "    PipelineBuilder(group_identifier=\"gauge_id\")\n",
    "    .add_per_basin(Log(), columns=[\"streamflow\"])\n",
    "    .add_global(ZScore(), columns=[\"streamflow\", \"total_precipitation_sum\"])\n",
    "    .build()\n",
    ")\n",
    "\n",
    "data_transformed = preprocessing_pipelines.fit_transform(ts_data)\n",
    "data_inv = preprocessing_pipelines.inverse_transform(data_transformed)"
   ]
  },
  {
   "cell_type": "code",
   "execution_count": null,
   "id": "71a1ec10",
   "metadata": {},
   "outputs": [],
   "source": [
    "ts_data.head(), data_transformed.head(), data_inv.head()"
   ]
  },
  {
   "cell_type": "code",
   "execution_count": null,
   "id": "abe33e68",
   "metadata": {},
   "outputs": [],
   "source": [
    "caravan.write_timeseries(\n",
    "    data_transformed,\n",
    "    \"/Users/cooper/Desktop/transfer-learning-publication/data\",\n",
    "    True\n",
    ")"
   ]
  }
 ],
 "metadata": {
  "kernelspec": {
   "display_name": "Python (transfer-learning-publication)",
   "language": "python",
   "name": "transfer-learning-publication"
  },
  "language_info": {
   "codemirror_mode": {
    "name": "ipython",
    "version": 3
   },
   "file_extension": ".py",
   "mimetype": "text/x-python",
   "name": "python",
   "nbconvert_exporter": "python",
   "pygments_lexer": "ipython3",
   "version": "3.12.8"
  }
 },
 "nbformat": 4,
 "nbformat_minor": 5
}
