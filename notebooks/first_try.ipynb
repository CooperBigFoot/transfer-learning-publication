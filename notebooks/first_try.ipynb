{
 "cells": [
  {
   "cell_type": "code",
   "execution_count": 1,
   "id": "a6af6e32",
   "metadata": {},
   "outputs": [],
   "source": [
    "from transfer_learning_publication.data import CaravanDataSource"
   ]
  },
  {
   "cell_type": "code",
   "execution_count": 2,
   "id": "eb0d2ae3",
   "metadata": {},
   "outputs": [],
   "source": [
    "caravan = CaravanDataSource(\n",
    "    base_path=\"/Users/cooper/Desktop/LSH_hive_data\",\n",
    "    region=\"hysets\"\n",
    ")"
   ]
  },
  {
   "cell_type": "code",
   "execution_count": 3,
   "id": "c58b72ee",
   "metadata": {},
   "outputs": [
    {
     "data": {
      "text/plain": [
       "['camels',\n",
       " 'camelsaus',\n",
       " 'camelsbr',\n",
       " 'camelsch',\n",
       " 'camelscl',\n",
       " 'camelsgb',\n",
       " 'hysets',\n",
       " 'lamah',\n",
       " 'tajikkyrgyz']"
      ]
     },
     "execution_count": 3,
     "metadata": {},
     "output_type": "execute_result"
    }
   ],
   "source": [
    "caravan.list_regions()"
   ]
  },
  {
   "cell_type": "code",
   "execution_count": 4,
   "id": "7c980027",
   "metadata": {},
   "outputs": [
    {
     "data": {
      "text/plain": [
       "12162"
      ]
     },
     "execution_count": 4,
     "metadata": {},
     "output_type": "execute_result"
    }
   ],
   "source": [
    "basins = caravan.list_gauge_ids()\n",
    "\n",
    "len(basins)"
   ]
  },
  {
   "cell_type": "code",
   "execution_count": 5,
   "id": "1f87a949",
   "metadata": {},
   "outputs": [
    {
     "data": {
      "text/plain": [
       "'hysets_01010000'"
      ]
     },
     "execution_count": 5,
     "metadata": {},
     "output_type": "execute_result"
    }
   ],
   "source": [
    "basins[0]"
   ]
  },
  {
   "cell_type": "code",
   "execution_count": 6,
   "id": "a099b1f7",
   "metadata": {},
   "outputs": [],
   "source": [
    "data = caravan.get_timeseries(\n",
    "    gauge_ids=[basins[0]],\n",
    "    variables=[\"streamflow\", \"total_precipitation_sum\"],\n",
    ").collect()"
   ]
  },
  {
   "cell_type": "code",
   "execution_count": 7,
   "id": "70b38d16",
   "metadata": {},
   "outputs": [
    {
     "data": {
      "text/html": [
       "<div><style>\n",
       ".dataframe > thead > tr,\n",
       ".dataframe > tbody > tr {\n",
       "  text-align: right;\n",
       "  white-space: pre-wrap;\n",
       "}\n",
       "</style>\n",
       "<small>shape: (26_662, 5)</small><table border=\"1\" class=\"dataframe\"><thead><tr><th>date</th><th>REGION_NAME</th><th>gauge_id</th><th>total_precipitation_sum</th><th>streamflow</th></tr><tr><td>date</td><td>str</td><td>str</td><td>f64</td><td>f64</td></tr></thead><tbody><tr><td>1951-01-01</td><td>&quot;hysets&quot;</td><td>&quot;hysets_01010000&quot;</td><td>0.0</td><td>0.41</td></tr><tr><td>1951-01-02</td><td>&quot;hysets&quot;</td><td>&quot;hysets_01010000&quot;</td><td>0.86</td><td>0.41</td></tr><tr><td>1951-01-03</td><td>&quot;hysets&quot;</td><td>&quot;hysets_01010000&quot;</td><td>2.58</td><td>0.41</td></tr><tr><td>1951-01-04</td><td>&quot;hysets&quot;</td><td>&quot;hysets_01010000&quot;</td><td>14.57</td><td>0.42</td></tr><tr><td>1951-01-05</td><td>&quot;hysets&quot;</td><td>&quot;hysets_01010000&quot;</td><td>0.14</td><td>0.46</td></tr><tr><td>&hellip;</td><td>&hellip;</td><td>&hellip;</td><td>&hellip;</td><td>&hellip;</td></tr><tr><td>2023-12-26</td><td>&quot;hysets&quot;</td><td>&quot;hysets_01010000&quot;</td><td>0.19</td><td>null</td></tr><tr><td>2023-12-27</td><td>&quot;hysets&quot;</td><td>&quot;hysets_01010000&quot;</td><td>1.12</td><td>null</td></tr><tr><td>2023-12-28</td><td>&quot;hysets&quot;</td><td>&quot;hysets_01010000&quot;</td><td>0.23</td><td>null</td></tr><tr><td>2023-12-29</td><td>&quot;hysets&quot;</td><td>&quot;hysets_01010000&quot;</td><td>7.57</td><td>null</td></tr><tr><td>2023-12-30</td><td>&quot;hysets&quot;</td><td>&quot;hysets_01010000&quot;</td><td>2.98</td><td>null</td></tr></tbody></table></div>"
      ],
      "text/plain": [
       "shape: (26_662, 5)\n",
       "┌────────────┬─────────────┬─────────────────┬─────────────────────────┬────────────┐\n",
       "│ date       ┆ REGION_NAME ┆ gauge_id        ┆ total_precipitation_sum ┆ streamflow │\n",
       "│ ---        ┆ ---         ┆ ---             ┆ ---                     ┆ ---        │\n",
       "│ date       ┆ str         ┆ str             ┆ f64                     ┆ f64        │\n",
       "╞════════════╪═════════════╪═════════════════╪═════════════════════════╪════════════╡\n",
       "│ 1951-01-01 ┆ hysets      ┆ hysets_01010000 ┆ 0.0                     ┆ 0.41       │\n",
       "│ 1951-01-02 ┆ hysets      ┆ hysets_01010000 ┆ 0.86                    ┆ 0.41       │\n",
       "│ 1951-01-03 ┆ hysets      ┆ hysets_01010000 ┆ 2.58                    ┆ 0.41       │\n",
       "│ 1951-01-04 ┆ hysets      ┆ hysets_01010000 ┆ 14.57                   ┆ 0.42       │\n",
       "│ 1951-01-05 ┆ hysets      ┆ hysets_01010000 ┆ 0.14                    ┆ 0.46       │\n",
       "│ …          ┆ …           ┆ …               ┆ …                       ┆ …          │\n",
       "│ 2023-12-26 ┆ hysets      ┆ hysets_01010000 ┆ 0.19                    ┆ null       │\n",
       "│ 2023-12-27 ┆ hysets      ┆ hysets_01010000 ┆ 1.12                    ┆ null       │\n",
       "│ 2023-12-28 ┆ hysets      ┆ hysets_01010000 ┆ 0.23                    ┆ null       │\n",
       "│ 2023-12-29 ┆ hysets      ┆ hysets_01010000 ┆ 7.57                    ┆ null       │\n",
       "│ 2023-12-30 ┆ hysets      ┆ hysets_01010000 ┆ 2.98                    ┆ null       │\n",
       "└────────────┴─────────────┴─────────────────┴─────────────────────────┴────────────┘"
      ]
     },
     "execution_count": 7,
     "metadata": {},
     "output_type": "execute_result"
    }
   ],
   "source": [
    "data"
   ]
  }
 ],
 "metadata": {
  "kernelspec": {
   "display_name": "Python (transfer-learning-publication)",
   "language": "python",
   "name": "transfer-learning-publication"
  },
  "language_info": {
   "codemirror_mode": {
    "name": "ipython",
    "version": 3
   },
   "file_extension": ".py",
   "mimetype": "text/x-python",
   "name": "python",
   "nbconvert_exporter": "python",
   "pygments_lexer": "ipython3",
   "version": "3.12.8"
  }
 },
 "nbformat": 4,
 "nbformat_minor": 5
}
