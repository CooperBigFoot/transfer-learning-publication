{
 "cells": [
  {
   "cell_type": "code",
   "execution_count": 1,
   "id": "a6af6e32",
   "metadata": {},
   "outputs": [],
   "source": [
    "from transfer_learning_publication.data import CaravanDataSource\n",
    "from transfer_learning_publication.transforms import PipelineBuilder, Log, ZScore\n",
    "from transfer_learning_publication.containers import TimeSeriesCollection"
   ]
  },
  {
   "cell_type": "code",
   "execution_count": 2,
   "id": "eb0d2ae3",
   "metadata": {},
   "outputs": [],
   "source": [
    "caravan = CaravanDataSource(\n",
    "    base_path=\"/Users/cooper/Desktop/CARAVAN_CLEAN/train\",\n",
    "    region=\"tajikkyrgyz\"\n",
    ")\n",
    "\n",
    "basins = caravan.list_gauge_ids()\n",
    "\n",
    "ts_data = caravan.get_timeseries(\n",
    "    gauge_ids=basins[:2],\n",
    "    columns=[\"streamflow\", \"total_precipitation_sum\"],\n",
    ")\n",
    "\n",
    "static_data = caravan.get_static_attributes(\n",
    "    gauge_ids=basins[:2],\n",
    "    columns=[\"area\", \"high_prec_freq\"],\n",
    ")"
   ]
  },
  {
   "cell_type": "code",
   "execution_count": 3,
   "id": "acb32c9f",
   "metadata": {},
   "outputs": [
    {
     "data": {
      "text/plain": [
       "{'streamflow': 0, 'total_precipitation_sum': 1}"
      ]
     },
     "execution_count": 3,
     "metadata": {},
     "output_type": "execute_result"
    }
   ],
   "source": [
    "static_collection = caravan.to_time_series_collection(ts_data)\n",
    "static_collection.feature_indices"
   ]
  },
  {
   "cell_type": "code",
   "execution_count": null,
   "id": "6b961653",
   "metadata": {},
   "outputs": [
    {
     "ename": "NameError",
     "evalue": "name 'PipelineBuilder' is not defined",
     "output_type": "error",
     "traceback": [
      "\u001b[31m---------------------------------------------------------------------------\u001b[39m",
      "\u001b[31mNameError\u001b[39m                                 Traceback (most recent call last)",
      "\u001b[36mCell\u001b[39m\u001b[36m \u001b[39m\u001b[32mIn[1]\u001b[39m\u001b[32m, line 2\u001b[39m\n\u001b[32m      1\u001b[39m preprocessing_pipelines = (\n\u001b[32m----> \u001b[39m\u001b[32m2\u001b[39m     \u001b[43mPipelineBuilder\u001b[49m(group_identifier=\u001b[33m\"\u001b[39m\u001b[33mgauge_id\u001b[39m\u001b[33m\"\u001b[39m)\n\u001b[32m      3\u001b[39m     .add_per_basin(Log(), columns=[\u001b[33m\"\u001b[39m\u001b[33mstreamflow\u001b[39m\u001b[33m\"\u001b[39m])\n\u001b[32m      4\u001b[39m     .add_global(ZScore(), columns=[\u001b[33m\"\u001b[39m\u001b[33mstreamflow\u001b[39m\u001b[33m\"\u001b[39m, \u001b[33m\"\u001b[39m\u001b[33mtotal_precipitation_sum\u001b[39m\u001b[33m\"\u001b[39m])\n\u001b[32m      5\u001b[39m     .build()\n\u001b[32m      6\u001b[39m )\n\u001b[32m      8\u001b[39m data_transformed = preprocessing_pipelines.fit_transform(ts_data.collect())\n\u001b[32m      9\u001b[39m data_inv = preprocessing_pipelines.inverse_transform(data_transformed)\n",
      "\u001b[31mNameError\u001b[39m: name 'PipelineBuilder' is not defined"
     ]
    }
   ],
   "source": [
    "preprocessing_pipelines = (\n",
    "    PipelineBuilder(group_identifier=\"gauge_id\")\n",
    "    .add_per_basin(Log(), columns=[\"streamflow\"])\n",
    "    .add_global(ZScore(), columns=[\"streamflow\", \"total_precipitation_sum\"])\n",
    "    .build()\n",
    ")\n",
    "\n",
    "data_transformed = preprocessing_pipelines.fit_transform(ts_data.collect())\n",
    "\n",
    "data_inv = preprocessing_pipelines.inverse_transform(data_transformed)"
   ]
  },
  {
   "cell_type": "code",
   "execution_count": 2,
   "id": "71a1ec10",
   "metadata": {},
   "outputs": [
    {
     "ename": "NameError",
     "evalue": "name 'ts_data' is not defined",
     "output_type": "error",
     "traceback": [
      "\u001b[31m---------------------------------------------------------------------------\u001b[39m",
      "\u001b[31mNameError\u001b[39m                                 Traceback (most recent call last)",
      "\u001b[36mCell\u001b[39m\u001b[36m \u001b[39m\u001b[32mIn[2]\u001b[39m\u001b[32m, line 1\u001b[39m\n\u001b[32m----> \u001b[39m\u001b[32m1\u001b[39m \u001b[43mts_data\u001b[49m.collect().head(), data_transformed.head(), data_inv.head()\n",
      "\u001b[31mNameError\u001b[39m: name 'ts_data' is not defined"
     ]
    }
   ],
   "source": [
    "ts_data.collect().head(), data_transformed.head(), data_inv.head()"
   ]
  },
  {
   "cell_type": "code",
   "execution_count": null,
   "id": "abe33e68",
   "metadata": {},
   "outputs": [],
   "source": [
    "caravan.write_timeseries(\n",
    "    data_transformed,\n",
    "    \"/Users/cooper/Desktop/transfer-learning-publication/data\",\n",
    "    True\n",
    ")"
   ]
  }
 ],
 "metadata": {
  "kernelspec": {
   "display_name": "Python (transfer-learning-publication)",
   "language": "python",
   "name": "transfer-learning-publication"
  },
  "language_info": {
   "codemirror_mode": {
    "name": "ipython",
    "version": 3
   },
   "file_extension": ".py",
   "mimetype": "text/x-python",
   "name": "python",
   "nbconvert_exporter": "python",
   "pygments_lexer": "ipython3",
   "version": "3.12.8"
  }
 },
 "nbformat": 4,
 "nbformat_minor": 5
}
