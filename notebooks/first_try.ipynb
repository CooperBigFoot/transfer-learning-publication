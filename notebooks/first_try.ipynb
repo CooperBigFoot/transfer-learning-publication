{
 "cells": [
  {
   "cell_type": "code",
   "execution_count": 1,
   "id": "a6af6e32",
   "metadata": {},
   "outputs": [],
   "source": [
    "from transfer_learning_publication.data import CaravanDataSource\n",
    "from transfer_learning_publication.transforms import PipelineBuilder, Log, ZScore\n",
    "from transfer_learning_publication.containers import TimeSeriesCollection"
   ]
  },
  {
   "cell_type": "code",
   "execution_count": 2,
   "id": "eb0d2ae3",
   "metadata": {},
   "outputs": [],
   "source": [
    "caravan = CaravanDataSource(\n",
    "    base_path=\"/Users/cooper/Desktop/LSH_hive_data\",\n",
    "    region=\"tajikkyrgyz\"\n",
    ")\n",
    "\n",
    "basins = caravan.list_gauge_ids()\n",
    "\n",
    "ts_data = caravan.get_timeseries(\n",
    "    gauge_ids=basins[:2],\n",
    "    columns=[\"streamflow\", \"total_precipitation_sum\"],\n",
    ")\n",
    "\n",
    "static_data = caravan.get_static_attributes(\n",
    "    gauge_ids=basins[:2],\n",
    "    columns=[\"area\", \"high_prec_freq\"],\n",
    ")"
   ]
  },
  {
   "cell_type": "code",
   "execution_count": null,
   "id": "acb32c9f",
   "metadata": {},
   "outputs": [
    {
     "ename": "ValueError",
     "evalue": "Gauge 'tajikkyrgyz_15013' has null values in columns: ['streamflow']. This indicates an upstream processing error.",
     "output_type": "error",
     "traceback": [
      "\u001b[31m---------------------------------------------------------------------------\u001b[39m",
      "\u001b[31mValueError\u001b[39m                                Traceback (most recent call last)",
      "\u001b[36mCell\u001b[39m\u001b[36m \u001b[39m\u001b[32mIn[3]\u001b[39m\u001b[32m, line 1\u001b[39m\n\u001b[32m----> \u001b[39m\u001b[32m1\u001b[39m static_collection = \u001b[43mcaravan\u001b[49m\u001b[43m.\u001b[49m\u001b[43mto_time_series_collection\u001b[49m\u001b[43m(\u001b[49m\u001b[43mts_data\u001b[49m\u001b[43m)\u001b[49m\n\u001b[32m      2\u001b[39m static_collection.feature_indices\n",
      "\u001b[36mFile \u001b[39m\u001b[32m~/Desktop/transfer-learning-publication/src/transfer_learning_publication/data/caravanify_parquet.py:648\u001b[39m, in \u001b[36mCaravanDataSource.to_time_series_collection\u001b[39m\u001b[34m(self, lf)\u001b[39m\n\u001b[32m    646\u001b[39m \u001b[38;5;28;01mif\u001b[39;00m feature_data.null_count().sum_horizontal()[\u001b[32m0\u001b[39m] > \u001b[32m0\u001b[39m:\n\u001b[32m    647\u001b[39m     null_cols = [col \u001b[38;5;28;01mfor\u001b[39;00m col \u001b[38;5;129;01min\u001b[39;00m feature_columns \u001b[38;5;28;01mif\u001b[39;00m gauge_df[col].null_count() > \u001b[32m0\u001b[39m]\n\u001b[32m--> \u001b[39m\u001b[32m648\u001b[39m     \u001b[38;5;28;01mraise\u001b[39;00m \u001b[38;5;167;01mValueError\u001b[39;00m(\n\u001b[32m    649\u001b[39m         \u001b[33mf\u001b[39m\u001b[33m\"\u001b[39m\u001b[33mGauge \u001b[39m\u001b[33m'\u001b[39m\u001b[38;5;132;01m{\u001b[39;00mgauge_id\u001b[38;5;132;01m}\u001b[39;00m\u001b[33m'\u001b[39m\u001b[33m has null values in columns: \u001b[39m\u001b[38;5;132;01m{\u001b[39;00mnull_cols\u001b[38;5;132;01m}\u001b[39;00m\u001b[33m. \u001b[39m\u001b[33m\"\u001b[39m\n\u001b[32m    650\u001b[39m         \u001b[33m\"\u001b[39m\u001b[33mThis indicates an upstream processing error.\u001b[39m\u001b[33m\"\u001b[39m\n\u001b[32m    651\u001b[39m     )\n\u001b[32m    653\u001b[39m \u001b[38;5;66;03m# Convert to torch tensor using Polars' to_torch method\u001b[39;00m\n\u001b[32m    654\u001b[39m tensor = feature_data.to_torch(dtype=pl.Float32)\n",
      "\u001b[31mValueError\u001b[39m: Gauge 'tajikkyrgyz_15013' has null values in columns: ['streamflow']. This indicates an upstream processing error."
     ]
    }
   ],
   "source": [
    "# static_collection = caravan.to_time_series_collection(ts_data)\n",
    "# static_collection.feature_indices"
   ]
  },
  {
   "cell_type": "code",
   "execution_count": null,
   "id": "6b961653",
   "metadata": {},
   "outputs": [],
   "source": [
    "preprocessing_pipelines = (\n",
    "    PipelineBuilder(group_identifier=\"gauge_id\")\n",
    "    .add_per_basin(Log(), columns=[\"streamflow\"])\n",
    "    .add_global(ZScore(), columns=[\"streamflow\", \"total_precipitation_sum\"])\n",
    "    .build()\n",
    ")\n",
    "\n",
    "data_transformed = preprocessing_pipelines.fit_transform(ts_data.collect())\n",
    "\n",
    "data_inv = preprocessing_pipelines.inverse_transform(data_transformed)"
   ]
  },
  {
   "cell_type": "code",
   "execution_count": null,
   "id": "71a1ec10",
   "metadata": {},
   "outputs": [],
   "source": [
    "ts_data.collect().head(), data_transformed.head(), data_inv.head()"
   ]
  },
  {
   "cell_type": "code",
   "execution_count": null,
   "id": "abe33e68",
   "metadata": {},
   "outputs": [],
   "source": [
    "caravan.write_timeseries(\n",
    "    data_transformed,\n",
    "    \"/Users/cooper/Desktop/transfer-learning-publication/data\",\n",
    "    True\n",
    ")"
   ]
  }
 ],
 "metadata": {
  "kernelspec": {
   "display_name": "Python (transfer-learning-publication)",
   "language": "python",
   "name": "transfer-learning-publication"
  },
  "language_info": {
   "codemirror_mode": {
    "name": "ipython",
    "version": 3
   },
   "file_extension": ".py",
   "mimetype": "text/x-python",
   "name": "python",
   "nbconvert_exporter": "python",
   "pygments_lexer": "ipython3",
   "version": "3.12.8"
  }
 },
 "nbformat": 4,
 "nbformat_minor": 5
}
