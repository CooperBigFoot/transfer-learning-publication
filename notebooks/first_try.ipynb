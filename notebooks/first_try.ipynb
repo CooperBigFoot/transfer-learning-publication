{
 "cells": [
  {
   "cell_type": "code",
   "execution_count": 1,
   "id": "a6af6e32",
   "metadata": {},
   "outputs": [],
   "source": [
    "from transfer_learning_publication.data import CaravanDataSource\n",
    "from transfer_learning_publication.transforms import PipelineBuilder, Log, ZScore"
   ]
  },
  {
   "cell_type": "code",
   "execution_count": 2,
   "id": "eb0d2ae3",
   "metadata": {},
   "outputs": [],
   "source": [
    "caravan = CaravanDataSource(\n",
    "    base_path=\"/Users/cooper/Desktop/LSH_hive_data\",\n",
    "    region=\"camels\"\n",
    ")\n",
    "\n",
    "basins = caravan.list_gauge_ids()\n",
    "\n",
    "ts_data = caravan.get_timeseries(\n",
    "    gauge_ids=basins[:2],\n",
    "    variables=[\"streamflow\", \"total_precipitation_sum\"],\n",
    ")"
   ]
  },
  {
   "cell_type": "code",
   "execution_count": 3,
   "id": "82014588",
   "metadata": {},
   "outputs": [
    {
     "data": {
      "text/plain": [
       "['camels',\n",
       " 'camelsaus',\n",
       " 'camelsbr',\n",
       " 'camelsch',\n",
       " 'camelscl',\n",
       " 'camelsgb',\n",
       " 'hysets',\n",
       " 'lamah',\n",
       " 'tajikkyrgyz']"
      ]
     },
     "execution_count": 3,
     "metadata": {},
     "output_type": "execute_result"
    }
   ],
   "source": [
    "caravan.list_regions()"
   ]
  },
  {
   "cell_type": "code",
   "execution_count": 4,
   "id": "96d57330",
   "metadata": {},
   "outputs": [
    {
     "data": {
      "text/plain": [
       "['streamflow', 'gauge_id', 'total_precipitation_sum', 'REGION_NAME', 'date']"
      ]
     },
     "execution_count": 4,
     "metadata": {},
     "output_type": "execute_result"
    }
   ],
   "source": [
    "ts_data.collect_schema().names()"
   ]
  },
  {
   "cell_type": "code",
   "execution_count": 5,
   "id": "6b961653",
   "metadata": {},
   "outputs": [
    {
     "ename": "TypeError",
     "evalue": "Input must be a Polars DataFrame",
     "output_type": "error",
     "traceback": [
      "\u001b[31m---------------------------------------------------------------------------\u001b[39m",
      "\u001b[31mTypeError\u001b[39m                                 Traceback (most recent call last)",
      "\u001b[36mCell\u001b[39m\u001b[36m \u001b[39m\u001b[32mIn[5]\u001b[39m\u001b[32m, line 8\u001b[39m\n\u001b[32m      1\u001b[39m preprocessing_pipelines = (\n\u001b[32m      2\u001b[39m     PipelineBuilder(group_identifier=\u001b[33m\"\u001b[39m\u001b[33mgauge_id\u001b[39m\u001b[33m\"\u001b[39m)\n\u001b[32m      3\u001b[39m     .add_per_basin(Log(), columns=[\u001b[33m\"\u001b[39m\u001b[33mstreamflow\u001b[39m\u001b[33m\"\u001b[39m])\n\u001b[32m      4\u001b[39m     .add_global(ZScore(), columns=[\u001b[33m\"\u001b[39m\u001b[33mstreamflow\u001b[39m\u001b[33m\"\u001b[39m, \u001b[33m\"\u001b[39m\u001b[33mtotal_precipitation_sum\u001b[39m\u001b[33m\"\u001b[39m])\n\u001b[32m      5\u001b[39m     .build()\n\u001b[32m      6\u001b[39m )\n\u001b[32m----> \u001b[39m\u001b[32m8\u001b[39m data_transformed = \u001b[43mpreprocessing_pipelines\u001b[49m\u001b[43m.\u001b[49m\u001b[43mfit_transform\u001b[49m\u001b[43m(\u001b[49m\u001b[43mts_data\u001b[49m\u001b[43m)\u001b[49m\n\u001b[32m      9\u001b[39m data_inv = preprocessing_pipelines.inverse_transform(data_transformed)\n",
      "\u001b[36mFile \u001b[39m\u001b[32m~/Desktop/transfer-learning-publication/src/transfer_learning_publication/transforms/composite.py:254\u001b[39m, in \u001b[36mCompositePipeline.fit_transform\u001b[39m\u001b[34m(self, df)\u001b[39m\n\u001b[32m    245\u001b[39m \u001b[38;5;28;01mdef\u001b[39;00m\u001b[38;5;250m \u001b[39m\u001b[34mfit_transform\u001b[39m(\u001b[38;5;28mself\u001b[39m, df: pl.DataFrame) -> pl.DataFrame:\n\u001b[32m    246\u001b[39m \u001b[38;5;250m    \u001b[39m\u001b[33;03m\"\"\"Fit pipeline and transform data in one step.\u001b[39;00m\n\u001b[32m    247\u001b[39m \n\u001b[32m    248\u001b[39m \u001b[33;03m    Args:\u001b[39;00m\n\u001b[32m   (...)\u001b[39m\u001b[32m    252\u001b[39m \u001b[33;03m        Transformed DataFrame\u001b[39;00m\n\u001b[32m    253\u001b[39m \u001b[33;03m    \"\"\"\u001b[39;00m\n\u001b[32m--> \u001b[39m\u001b[32m254\u001b[39m     \u001b[38;5;28;01mreturn\u001b[39;00m \u001b[38;5;28;43mself\u001b[39;49m\u001b[43m.\u001b[49m\u001b[43mfit\u001b[49m\u001b[43m(\u001b[49m\u001b[43mdf\u001b[49m\u001b[43m)\u001b[49m.transform(df)\n",
      "\u001b[36mFile \u001b[39m\u001b[32m~/Desktop/transfer-learning-publication/src/transfer_learning_publication/transforms/composite.py:157\u001b[39m, in \u001b[36mCompositePipeline.fit\u001b[39m\u001b[34m(self, df)\u001b[39m\n\u001b[32m    148\u001b[39m \u001b[38;5;28;01mdef\u001b[39;00m\u001b[38;5;250m \u001b[39m\u001b[34mfit\u001b[39m(\u001b[38;5;28mself\u001b[39m, df: pl.DataFrame) -> \u001b[33m\"\u001b[39m\u001b[33mCompositePipeline\u001b[39m\u001b[33m\"\u001b[39m:\n\u001b[32m    149\u001b[39m \u001b[38;5;250m    \u001b[39m\u001b[33;03m\"\"\"Fit the composite pipeline to training data.\u001b[39;00m\n\u001b[32m    150\u001b[39m \n\u001b[32m    151\u001b[39m \u001b[33;03m    Args:\u001b[39;00m\n\u001b[32m   (...)\u001b[39m\u001b[32m    155\u001b[39m \u001b[33;03m        Self for method chaining\u001b[39;00m\n\u001b[32m    156\u001b[39m \u001b[33;03m    \"\"\"\u001b[39;00m\n\u001b[32m--> \u001b[39m\u001b[32m157\u001b[39m     \u001b[38;5;28;43mself\u001b[39;49m\u001b[43m.\u001b[49m\u001b[43m_validate_dataframe\u001b[49m\u001b[43m(\u001b[49m\u001b[43mdf\u001b[49m\u001b[43m)\u001b[49m\n\u001b[32m    159\u001b[39m     current_df = df\n\u001b[32m    160\u001b[39m     \u001b[38;5;28mself\u001b[39m._fitted_steps = []\n",
      "\u001b[36mFile \u001b[39m\u001b[32m~/Desktop/transfer-learning-publication/src/transfer_learning_publication/transforms/composite.py:52\u001b[39m, in \u001b[36mCompositePipeline._validate_dataframe\u001b[39m\u001b[34m(self, df)\u001b[39m\n\u001b[32m     50\u001b[39m \u001b[38;5;250m\u001b[39m\u001b[33;03m\"\"\"Validate input DataFrame format.\"\"\"\u001b[39;00m\n\u001b[32m     51\u001b[39m \u001b[38;5;28;01mif\u001b[39;00m \u001b[38;5;129;01mnot\u001b[39;00m \u001b[38;5;28misinstance\u001b[39m(df, pl.DataFrame):\n\u001b[32m---> \u001b[39m\u001b[32m52\u001b[39m     \u001b[38;5;28;01mraise\u001b[39;00m \u001b[38;5;167;01mTypeError\u001b[39;00m(\u001b[33m\"\u001b[39m\u001b[33mInput must be a Polars DataFrame\u001b[39m\u001b[33m\"\u001b[39m)\n\u001b[32m     54\u001b[39m \u001b[38;5;28;01mif\u001b[39;00m \u001b[38;5;28mself\u001b[39m.group_identifier \u001b[38;5;129;01mnot\u001b[39;00m \u001b[38;5;129;01min\u001b[39;00m df.columns:\n\u001b[32m     55\u001b[39m     \u001b[38;5;28;01mraise\u001b[39;00m \u001b[38;5;167;01mValueError\u001b[39;00m(\u001b[33mf\u001b[39m\u001b[33m\"\u001b[39m\u001b[33mGroup identifier \u001b[39m\u001b[33m'\u001b[39m\u001b[38;5;132;01m{\u001b[39;00m\u001b[38;5;28mself\u001b[39m.group_identifier\u001b[38;5;132;01m}\u001b[39;00m\u001b[33m'\u001b[39m\u001b[33m not found in DataFrame columns\u001b[39m\u001b[33m\"\u001b[39m)\n",
      "\u001b[31mTypeError\u001b[39m: Input must be a Polars DataFrame"
     ]
    }
   ],
   "source": [
    "preprocessing_pipelines = (\n",
    "    PipelineBuilder(group_identifier=\"gauge_id\")\n",
    "    .add_per_basin(Log(), columns=[\"streamflow\"])\n",
    "    .add_global(ZScore(), columns=[\"streamflow\", \"total_precipitation_sum\"])\n",
    "    .build()\n",
    ")\n",
    "\n",
    "data_transformed = preprocessing_pipelines.fit_transform(ts_data)\n",
    "data_inv = preprocessing_pipelines.inverse_transform(data_transformed)"
   ]
  },
  {
   "cell_type": "code",
   "execution_count": null,
   "id": "71a1ec10",
   "metadata": {},
   "outputs": [],
   "source": [
    "ts_data.head(), data_transformed.head(), data_inv.head()"
   ]
  },
  {
   "cell_type": "code",
   "execution_count": null,
   "id": "abe33e68",
   "metadata": {},
   "outputs": [],
   "source": [
    "caravan.write_timeseries(\n",
    "    data_transformed,\n",
    "    \"/Users/cooper/Desktop/transfer-learning-publication/data\",\n",
    "    True\n",
    ")"
   ]
  }
 ],
 "metadata": {
  "kernelspec": {
   "display_name": "Python (transfer-learning-publication)",
   "language": "python",
   "name": "transfer-learning-publication"
  },
  "language_info": {
   "codemirror_mode": {
    "name": "ipython",
    "version": 3
   },
   "file_extension": ".py",
   "mimetype": "text/x-python",
   "name": "python",
   "nbconvert_exporter": "python",
   "pygments_lexer": "ipython3",
   "version": "3.12.8"
  }
 },
 "nbformat": 4,
 "nbformat_minor": 5
}
