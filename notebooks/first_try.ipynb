{
 "cells": [
  {
   "cell_type": "code",
   "execution_count": 1,
   "id": "a6af6e32",
   "metadata": {},
   "outputs": [],
   "source": [
    "from transfer_learning_publication.data import CaravanDataSource\n",
    "from transfer_learning_publication.transforms import PipelineBuilder, Log, ZScore"
   ]
  },
  {
   "cell_type": "code",
   "execution_count": 2,
   "id": "eb0d2ae3",
   "metadata": {},
   "outputs": [],
   "source": [
    "caravan = CaravanDataSource(\n",
    "    base_path=\"/Users/cooper/Desktop/LSH_hive_data\",\n",
    "    region=\"camelsch\"\n",
    ")\n",
    "\n",
    "basins = caravan.list_gauge_ids()\n",
    "\n",
    "ts_data = caravan.get_timeseries(\n",
    "    gauge_ids=[basins[0]],\n",
    "    variables=[\"streamflow\", \"total_precipitation_sum\"],\n",
    ").collect()"
   ]
  },
  {
   "cell_type": "code",
   "execution_count": 3,
   "id": "e1db830e",
   "metadata": {},
   "outputs": [],
   "source": [
    "static_data = caravan.get_static_attributes(\n",
    "    gauge_ids=[basins[0]],\n",
    "    columns=[\"area\"],\n",
    ").collect()"
   ]
  },
  {
   "cell_type": "code",
   "execution_count": 4,
   "id": "1d05006c",
   "metadata": {},
   "outputs": [
    {
     "data": {
      "text/html": [
       "<div><style>\n",
       ".dataframe > thead > tr,\n",
       ".dataframe > tbody > tr {\n",
       "  text-align: right;\n",
       "  white-space: pre-wrap;\n",
       "}\n",
       "</style>\n",
       "<small>shape: (1, 4)</small><table border=\"1\" class=\"dataframe\"><thead><tr><th>gauge_id</th><th>REGION_NAME</th><th>attribute_type</th><th>area</th></tr><tr><td>str</td><td>str</td><td>str</td><td>f64</td></tr></thead><tbody><tr><td>&quot;camelsch_2009&quot;</td><td>&quot;camelsch&quot;</td><td>&quot;other&quot;</td><td>5225.273653</td></tr></tbody></table></div>"
      ],
      "text/plain": [
       "shape: (1, 4)\n",
       "┌───────────────┬─────────────┬────────────────┬─────────────┐\n",
       "│ gauge_id      ┆ REGION_NAME ┆ attribute_type ┆ area        │\n",
       "│ ---           ┆ ---         ┆ ---            ┆ ---         │\n",
       "│ str           ┆ str         ┆ str            ┆ f64         │\n",
       "╞═══════════════╪═════════════╪════════════════╪═════════════╡\n",
       "│ camelsch_2009 ┆ camelsch    ┆ other          ┆ 5225.273653 │\n",
       "└───────────────┴─────────────┴────────────────┴─────────────┘"
      ]
     },
     "execution_count": 4,
     "metadata": {},
     "output_type": "execute_result"
    }
   ],
   "source": [
    "static_data"
   ]
  },
  {
   "cell_type": "code",
   "execution_count": null,
   "id": "6b961653",
   "metadata": {},
   "outputs": [],
   "source": [
    "preprocessing_pipelines = (\n",
    "    PipelineBuilder(group_identifier=\"gauge_id\")\n",
    "    .add_per_basin(Log(), columns=[\"streamflow\"])\n",
    "    .add_global(ZScore(), columns=[\"streamflow\", \"total_precipitation_sum\"])\n",
    "    .build()\n",
    ")\n",
    "\n",
    "data_transformed = preprocessing_pipelines.fit_transform(ts_data)\n",
    "data_inv = preprocessing_pipelines.inverse_transform(data_transformed)"
   ]
  },
  {
   "cell_type": "code",
   "execution_count": null,
   "id": "71a1ec10",
   "metadata": {},
   "outputs": [],
   "source": [
    "ts_data.head(), data_transformed.head(), data_inv.head()"
   ]
  },
  {
   "cell_type": "code",
   "execution_count": null,
   "id": "abe33e68",
   "metadata": {},
   "outputs": [],
   "source": []
  }
 ],
 "metadata": {
  "kernelspec": {
   "display_name": "Python (transfer-learning-publication)",
   "language": "python",
   "name": "transfer-learning-publication"
  },
  "language_info": {
   "codemirror_mode": {
    "name": "ipython",
    "version": 3
   },
   "file_extension": ".py",
   "mimetype": "text/x-python",
   "name": "python",
   "nbconvert_exporter": "python",
   "pygments_lexer": "ipython3",
   "version": "3.12.8"
  }
 },
 "nbformat": 4,
 "nbformat_minor": 5
}
