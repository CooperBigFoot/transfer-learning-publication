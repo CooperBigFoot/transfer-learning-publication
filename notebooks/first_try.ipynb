{
 "cells": [
  {
   "cell_type": "code",
   "execution_count": 1,
   "id": "a6af6e32",
   "metadata": {},
   "outputs": [],
   "source": [
    "from transfer_learning_publication.data import CaravanDataSource\n",
    "from transfer_learning_publication.transforms import PipelineBuilder, Log, ZScore\n",
    "from transfer_learning_publication.containers import TimeSeriesCollection"
   ]
  },
  {
   "cell_type": "code",
   "execution_count": 2,
   "id": "eb0d2ae3",
   "metadata": {},
   "outputs": [],
   "source": [
    "caravan = CaravanDataSource(\n",
    "    base_path=\"/Users/cooper/Desktop/CARAVAN_CLEAN/train\",\n",
    "    region=\"tajikkyrgyz\"\n",
    ")\n",
    "\n",
    "basins = caravan.list_gauge_ids()\n",
    "\n",
    "ts_data = caravan.get_timeseries(\n",
    "    gauge_ids=basins[:2],\n",
    "    variables=[\"streamflow\", \"total_precipitation_sum\"],\n",
    ")\n",
    "\n",
    "static_data = caravan.get_static_attributes(\n",
    "    gauge_ids=basins[:2],\n",
    "    columns=[\"area\"],\n",
    ")"
   ]
  },
  {
   "cell_type": "code",
   "execution_count": 3,
   "id": "8f0907bc",
   "metadata": {},
   "outputs": [
    {
     "data": {
      "text/html": [
       "<div><style>\n",
       ".dataframe > thead > tr,\n",
       ".dataframe > tbody > tr {\n",
       "  text-align: right;\n",
       "  white-space: pre-wrap;\n",
       "}\n",
       "</style>\n",
       "<small>shape: (6, 4)</small><table border=\"1\" class=\"dataframe\"><thead><tr><th>REGION_NAME</th><th>attribute_type</th><th>gauge_id</th><th>area</th></tr><tr><td>str</td><td>str</td><td>str</td><td>f64</td></tr></thead><tbody><tr><td>&quot;tajikkyrgyz&quot;</td><td>&quot;other&quot;</td><td>&quot;tajikkyrgyz_15013&quot;</td><td>254.78646</td></tr><tr><td>&quot;tajikkyrgyz&quot;</td><td>&quot;other&quot;</td><td>&quot;tajikkyrgyz_15016&quot;</td><td>330.553623</td></tr><tr><td>&quot;tajikkyrgyz&quot;</td><td>&quot;caravan&quot;</td><td>&quot;tajikkyrgyz_15013&quot;</td><td>null</td></tr><tr><td>&quot;tajikkyrgyz&quot;</td><td>&quot;caravan&quot;</td><td>&quot;tajikkyrgyz_15016&quot;</td><td>null</td></tr><tr><td>&quot;tajikkyrgyz&quot;</td><td>&quot;hydroatlas&quot;</td><td>&quot;tajikkyrgyz_15013&quot;</td><td>null</td></tr><tr><td>&quot;tajikkyrgyz&quot;</td><td>&quot;hydroatlas&quot;</td><td>&quot;tajikkyrgyz_15016&quot;</td><td>null</td></tr></tbody></table></div>"
      ],
      "text/plain": [
       "shape: (6, 4)\n",
       "┌─────────────┬────────────────┬───────────────────┬────────────┐\n",
       "│ REGION_NAME ┆ attribute_type ┆ gauge_id          ┆ area       │\n",
       "│ ---         ┆ ---            ┆ ---               ┆ ---        │\n",
       "│ str         ┆ str            ┆ str               ┆ f64        │\n",
       "╞═════════════╪════════════════╪═══════════════════╪════════════╡\n",
       "│ tajikkyrgyz ┆ other          ┆ tajikkyrgyz_15013 ┆ 254.78646  │\n",
       "│ tajikkyrgyz ┆ other          ┆ tajikkyrgyz_15016 ┆ 330.553623 │\n",
       "│ tajikkyrgyz ┆ caravan        ┆ tajikkyrgyz_15013 ┆ null       │\n",
       "│ tajikkyrgyz ┆ caravan        ┆ tajikkyrgyz_15016 ┆ null       │\n",
       "│ tajikkyrgyz ┆ hydroatlas     ┆ tajikkyrgyz_15013 ┆ null       │\n",
       "│ tajikkyrgyz ┆ hydroatlas     ┆ tajikkyrgyz_15016 ┆ null       │\n",
       "└─────────────┴────────────────┴───────────────────┴────────────┘"
      ]
     },
     "execution_count": 3,
     "metadata": {},
     "output_type": "execute_result"
    }
   ],
   "source": [
    "static_data.collect()"
   ]
  },
  {
   "cell_type": "code",
   "execution_count": 6,
   "id": "acb32c9f",
   "metadata": {},
   "outputs": [
    {
     "data": {
      "text/plain": [
       "{'tajikkyrgyz_15013': tensor([254.7865]),\n",
       " 'tajikkyrgyz_15016': tensor([330.5536])}"
      ]
     },
     "execution_count": 6,
     "metadata": {},
     "output_type": "execute_result"
    }
   ],
   "source": [
    "static_collection = caravan.to_static_attribute_collection(static_data)\n",
    "static_collection._group_tensors"
   ]
  },
  {
   "cell_type": "code",
   "execution_count": null,
   "id": "c1243218",
   "metadata": {},
   "outputs": [],
   "source": []
  },
  {
   "cell_type": "code",
   "execution_count": 5,
   "id": "4aa16d81",
   "metadata": {},
   "outputs": [
    {
     "ename": "NameError",
     "evalue": "name 'ts_collection' is not defined",
     "output_type": "error",
     "traceback": [
      "\u001b[31m---------------------------------------------------------------------------\u001b[39m",
      "\u001b[31mNameError\u001b[39m                                 Traceback (most recent call last)",
      "\u001b[36mCell\u001b[39m\u001b[36m \u001b[39m\u001b[32mIn[5]\u001b[39m\u001b[32m, line 1\u001b[39m\n\u001b[32m----> \u001b[39m\u001b[32m1\u001b[39m \u001b[43mts_collection\u001b[49m.feature_names\n",
      "\u001b[31mNameError\u001b[39m: name 'ts_collection' is not defined"
     ]
    }
   ],
   "source": [
    "ts_collection.feature_names"
   ]
  },
  {
   "cell_type": "code",
   "execution_count": null,
   "id": "6fca1185",
   "metadata": {},
   "outputs": [],
   "source": [
    "ts_collection._group_tensors"
   ]
  },
  {
   "cell_type": "code",
   "execution_count": null,
   "id": "8b10e154",
   "metadata": {},
   "outputs": [],
   "source": [
    "type(ts_collection)"
   ]
  },
  {
   "cell_type": "code",
   "execution_count": null,
   "id": "6b961653",
   "metadata": {},
   "outputs": [],
   "source": [
    "preprocessing_pipelines = (\n",
    "    PipelineBuilder(group_identifier=\"gauge_id\")\n",
    "    .add_per_basin(Log(), columns=[\"streamflow\"])\n",
    "    .add_global(ZScore(), columns=[\"streamflow\", \"total_precipitation_sum\"])\n",
    "    .build()\n",
    ")\n",
    "\n",
    "data_transformed = preprocessing_pipelines.fit_transform(ts_data)\n",
    "data_inv = preprocessing_pipelines.inverse_transform(data_transformed)"
   ]
  },
  {
   "cell_type": "code",
   "execution_count": null,
   "id": "71a1ec10",
   "metadata": {},
   "outputs": [],
   "source": [
    "ts_data.head(), data_transformed.head(), data_inv.head()"
   ]
  },
  {
   "cell_type": "code",
   "execution_count": null,
   "id": "abe33e68",
   "metadata": {},
   "outputs": [],
   "source": [
    "caravan.write_timeseries(\n",
    "    data_transformed,\n",
    "    \"/Users/cooper/Desktop/transfer-learning-publication/data\",\n",
    "    True\n",
    ")"
   ]
  }
 ],
 "metadata": {
  "kernelspec": {
   "display_name": "Python (transfer-learning-publication)",
   "language": "python",
   "name": "transfer-learning-publication"
  },
  "language_info": {
   "codemirror_mode": {
    "name": "ipython",
    "version": 3
   },
   "file_extension": ".py",
   "mimetype": "text/x-python",
   "name": "python",
   "nbconvert_exporter": "python",
   "pygments_lexer": "ipython3",
   "version": "3.12.8"
  }
 },
 "nbformat": 4,
 "nbformat_minor": 5
}
