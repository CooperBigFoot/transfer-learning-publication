{
 "cells": [
  {
   "cell_type": "code",
   "execution_count": 1,
   "id": "a6af6e32",
   "metadata": {},
   "outputs": [],
   "source": [
    "from transfer_learning_publication.data import CaravanDataSource\n",
    "from transfer_learning_publication.transforms import PipelineBuilder, Log, ZScore\n",
    "from transfer_learning_publication.containers import TimeSeriesCollection"
   ]
  },
  {
   "cell_type": "code",
   "execution_count": 2,
   "id": "eb0d2ae3",
   "metadata": {},
   "outputs": [],
   "source": [
    "caravan = CaravanDataSource(\n",
    "    base_path=\"/Users/cooper/Desktop/CARAVAN_CLEAN/train\",\n",
    "    region=\"tajikkyrgyz\"\n",
    ")\n",
    "\n",
    "basins = caravan.list_gauge_ids()\n",
    "\n",
    "ts_data = caravan.get_timeseries(\n",
    "    gauge_ids=basins[:2],\n",
    "    columns=[\"streamflow\", \"total_precipitation_sum\"],\n",
    ")\n",
    "\n",
    "static_data = caravan.get_static_attributes(\n",
    "    gauge_ids=basins[:2],\n",
    "    columns=[\"area\", \"high_prec_freq\"],\n",
    ")"
   ]
  },
  {
   "cell_type": "code",
   "execution_count": 3,
   "id": "acb32c9f",
   "metadata": {},
   "outputs": [
    {
     "data": {
      "text/plain": [
       "{'streamflow': 0, 'total_precipitation_sum': 1}"
      ]
     },
     "execution_count": 3,
     "metadata": {},
     "output_type": "execute_result"
    }
   ],
   "source": [
    "static_collection = caravan.to_time_series_collection(ts_data)\n",
    "static_collection.feature_indices"
   ]
  },
  {
   "cell_type": "code",
   "execution_count": 5,
   "id": "6b961653",
   "metadata": {},
   "outputs": [],
   "source": [
    "preprocessing_pipelines = (\n",
    "    PipelineBuilder(group_identifier=\"gauge_id\")\n",
    "    .add_per_basin(Log(), columns=[\"streamflow\"])\n",
    "    .add_global(ZScore(), columns=[\"streamflow\", \"total_precipitation_sum\"])\n",
    "    .build()\n",
    ")\n",
    "\n",
    "data_transformed = preprocessing_pipelines.fit_transform(ts_data.collect())\n",
    "data_inv = preprocessing_pipelines.inverse_transform(data_transformed)"
   ]
  },
  {
   "cell_type": "code",
   "execution_count": 7,
   "id": "71a1ec10",
   "metadata": {},
   "outputs": [
    {
     "data": {
      "text/plain": [
       "(shape: (5, 5)\n",
       " ┌────────────┬────────────┬─────────────┬───────────────────┬─────────────────────────┐\n",
       " │ streamflow ┆ date       ┆ REGION_NAME ┆ gauge_id          ┆ total_precipitation_sum │\n",
       " │ ---        ┆ ---        ┆ ---         ┆ ---               ┆ ---                     │\n",
       " │ f32        ┆ date       ┆ str         ┆ str               ┆ f32                     │\n",
       " ╞════════════╪════════════╪═════════════╪═══════════════════╪═════════════════════════╡\n",
       " │ 0.63       ┆ 2000-01-02 ┆ tajikkyrgyz ┆ tajikkyrgyz_15013 ┆ 5.97                    │\n",
       " │ 0.63       ┆ 2000-01-03 ┆ tajikkyrgyz ┆ tajikkyrgyz_15013 ┆ 20.43                   │\n",
       " │ 0.63       ┆ 2000-01-04 ┆ tajikkyrgyz ┆ tajikkyrgyz_15013 ┆ 20.200001               │\n",
       " │ 0.63       ┆ 2000-01-05 ┆ tajikkyrgyz ┆ tajikkyrgyz_15013 ┆ 1.24                    │\n",
       " │ 0.63       ┆ 2000-01-06 ┆ tajikkyrgyz ┆ tajikkyrgyz_15013 ┆ 0.04                    │\n",
       " └────────────┴────────────┴─────────────┴───────────────────┴─────────────────────────┘,\n",
       " shape: (5, 5)\n",
       " ┌────────────┬────────────┬─────────────┬───────────────────┬─────────────────────────┐\n",
       " │ streamflow ┆ date       ┆ REGION_NAME ┆ gauge_id          ┆ total_precipitation_sum │\n",
       " │ ---        ┆ ---        ┆ ---         ┆ ---               ┆ ---                     │\n",
       " │ f64        ┆ date       ┆ str         ┆ str               ┆ f64                     │\n",
       " ╞════════════╪════════════╪═════════════╪═══════════════════╪═════════════════════════╡\n",
       " │ 0.465778   ┆ 2000-01-02 ┆ tajikkyrgyz ┆ tajikkyrgyz_15013 ┆ 0.889029                │\n",
       " │ 0.465778   ┆ 2000-01-03 ┆ tajikkyrgyz ┆ tajikkyrgyz_15013 ┆ 4.68934                 │\n",
       " │ 0.465778   ┆ 2000-01-04 ┆ tajikkyrgyz ┆ tajikkyrgyz_15013 ┆ 4.628893                │\n",
       " │ 0.465778   ┆ 2000-01-05 ┆ tajikkyrgyz ┆ tajikkyrgyz_15013 ┆ -0.354087               │\n",
       " │ 0.465778   ┆ 2000-01-06 ┆ tajikkyrgyz ┆ tajikkyrgyz_15013 ┆ -0.669466               │\n",
       " └────────────┴────────────┴─────────────┴───────────────────┴─────────────────────────┘,\n",
       " shape: (5, 5)\n",
       " ┌────────────┬────────────┬─────────────┬───────────────────┬─────────────────────────┐\n",
       " │ streamflow ┆ date       ┆ REGION_NAME ┆ gauge_id          ┆ total_precipitation_sum │\n",
       " │ ---        ┆ ---        ┆ ---         ┆ ---               ┆ ---                     │\n",
       " │ f64        ┆ date       ┆ str         ┆ str               ┆ f64                     │\n",
       " ╞════════════╪════════════╪═════════════╪═══════════════════╪═════════════════════════╡\n",
       " │ 0.63       ┆ 2000-01-02 ┆ tajikkyrgyz ┆ tajikkyrgyz_15013 ┆ 5.97                    │\n",
       " │ 0.63       ┆ 2000-01-03 ┆ tajikkyrgyz ┆ tajikkyrgyz_15013 ┆ 20.43                   │\n",
       " │ 0.63       ┆ 2000-01-04 ┆ tajikkyrgyz ┆ tajikkyrgyz_15013 ┆ 20.200001               │\n",
       " │ 0.63       ┆ 2000-01-05 ┆ tajikkyrgyz ┆ tajikkyrgyz_15013 ┆ 1.24                    │\n",
       " │ 0.63       ┆ 2000-01-06 ┆ tajikkyrgyz ┆ tajikkyrgyz_15013 ┆ 0.04                    │\n",
       " └────────────┴────────────┴─────────────┴───────────────────┴─────────────────────────┘)"
      ]
     },
     "execution_count": 7,
     "metadata": {},
     "output_type": "execute_result"
    }
   ],
   "source": [
    "ts_data.collect().head(), data_transformed.head(), data_inv.head()"
   ]
  },
  {
   "cell_type": "code",
   "execution_count": null,
   "id": "abe33e68",
   "metadata": {},
   "outputs": [],
   "source": [
    "caravan.write_timeseries(\n",
    "    data_transformed,\n",
    "    \"/Users/cooper/Desktop/transfer-learning-publication/data\",\n",
    "    True\n",
    ")"
   ]
  }
 ],
 "metadata": {
  "kernelspec": {
   "display_name": "Python (transfer-learning-publication)",
   "language": "python",
   "name": "transfer-learning-publication"
  },
  "language_info": {
   "codemirror_mode": {
    "name": "ipython",
    "version": 3
   },
   "file_extension": ".py",
   "mimetype": "text/x-python",
   "name": "python",
   "nbconvert_exporter": "python",
   "pygments_lexer": "ipython3",
   "version": "3.12.8"
  }
 },
 "nbformat": 4,
 "nbformat_minor": 5
}
